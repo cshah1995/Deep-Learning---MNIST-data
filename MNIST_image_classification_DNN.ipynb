{
  "nbformat": 4,
  "nbformat_minor": 0,
  "metadata": {
    "colab": {
      "name": "MNIST image classification - DNN.ipynb",
      "provenance": [],
      "collapsed_sections": [],
      "toc_visible": true,
      "authorship_tag": "ABX9TyOZtpBThmnRuxDgnZHt+bEv",
      "include_colab_link": true
    },
    "kernelspec": {
      "name": "python3",
      "display_name": "Python 3"
    },
    "language_info": {
      "name": "python"
    },
    "accelerator": "GPU",
    "widgets": {
      "application/vnd.jupyter.widget-state+json": {
        "53ca957b535044b78d71f6429e18286d": {
          "model_module": "@jupyter-widgets/controls",
          "model_name": "HBoxModel",
          "model_module_version": "1.5.0",
          "state": {
            "_view_name": "HBoxView",
            "_dom_classes": [],
            "_model_name": "HBoxModel",
            "_view_module": "@jupyter-widgets/controls",
            "_model_module_version": "1.5.0",
            "_view_count": null,
            "_view_module_version": "1.5.0",
            "box_style": "",
            "layout": "IPY_MODEL_82c3ab997a9e4fbb9e83f304ebf97753",
            "_model_module": "@jupyter-widgets/controls",
            "children": [
              "IPY_MODEL_d9f5d2a5f0be4eb697d95bfdc7259368",
              "IPY_MODEL_6e8670072c1e4b818d9e293166ad79be",
              "IPY_MODEL_5b835ce102d14007a45e7da2fa549d2b"
            ]
          }
        },
        "82c3ab997a9e4fbb9e83f304ebf97753": {
          "model_module": "@jupyter-widgets/base",
          "model_name": "LayoutModel",
          "model_module_version": "1.2.0",
          "state": {
            "_view_name": "LayoutView",
            "grid_template_rows": null,
            "right": null,
            "justify_content": null,
            "_view_module": "@jupyter-widgets/base",
            "overflow": null,
            "_model_module_version": "1.2.0",
            "_view_count": null,
            "flex_flow": null,
            "width": null,
            "min_width": null,
            "border": null,
            "align_items": null,
            "bottom": null,
            "_model_module": "@jupyter-widgets/base",
            "top": null,
            "grid_column": null,
            "overflow_y": null,
            "overflow_x": null,
            "grid_auto_flow": null,
            "grid_area": null,
            "grid_template_columns": null,
            "flex": null,
            "_model_name": "LayoutModel",
            "justify_items": null,
            "grid_row": null,
            "max_height": null,
            "align_content": null,
            "visibility": null,
            "align_self": null,
            "height": null,
            "min_height": null,
            "padding": null,
            "grid_auto_rows": null,
            "grid_gap": null,
            "max_width": null,
            "order": null,
            "_view_module_version": "1.2.0",
            "grid_template_areas": null,
            "object_position": null,
            "object_fit": null,
            "grid_auto_columns": null,
            "margin": null,
            "display": null,
            "left": null
          }
        },
        "d9f5d2a5f0be4eb697d95bfdc7259368": {
          "model_module": "@jupyter-widgets/controls",
          "model_name": "HTMLModel",
          "model_module_version": "1.5.0",
          "state": {
            "_view_name": "HTMLView",
            "style": "IPY_MODEL_e364951f20b54c75a9fc872bcadc4e3e",
            "_dom_classes": [],
            "description": "",
            "_model_name": "HTMLModel",
            "placeholder": "​",
            "_view_module": "@jupyter-widgets/controls",
            "_model_module_version": "1.5.0",
            "value": "",
            "_view_count": null,
            "_view_module_version": "1.5.0",
            "description_tooltip": null,
            "_model_module": "@jupyter-widgets/controls",
            "layout": "IPY_MODEL_557a7630f4704a4695a46807a221e9ad"
          }
        },
        "6e8670072c1e4b818d9e293166ad79be": {
          "model_module": "@jupyter-widgets/controls",
          "model_name": "FloatProgressModel",
          "model_module_version": "1.5.0",
          "state": {
            "_view_name": "ProgressView",
            "style": "IPY_MODEL_4cb3908b73e64795a328c6b6837158ea",
            "_dom_classes": [],
            "description": "",
            "_model_name": "FloatProgressModel",
            "bar_style": "success",
            "max": 9912422,
            "_view_module": "@jupyter-widgets/controls",
            "_model_module_version": "1.5.0",
            "value": 9912422,
            "_view_count": null,
            "_view_module_version": "1.5.0",
            "orientation": "horizontal",
            "min": 0,
            "description_tooltip": null,
            "_model_module": "@jupyter-widgets/controls",
            "layout": "IPY_MODEL_8eabfd25ab654321a35400c384355aeb"
          }
        },
        "5b835ce102d14007a45e7da2fa549d2b": {
          "model_module": "@jupyter-widgets/controls",
          "model_name": "HTMLModel",
          "model_module_version": "1.5.0",
          "state": {
            "_view_name": "HTMLView",
            "style": "IPY_MODEL_797a0b78484d4fbc86bc0d3736bb05ca",
            "_dom_classes": [],
            "description": "",
            "_model_name": "HTMLModel",
            "placeholder": "​",
            "_view_module": "@jupyter-widgets/controls",
            "_model_module_version": "1.5.0",
            "value": " 9913344/? [00:00&lt;00:00, 23159684.68it/s]",
            "_view_count": null,
            "_view_module_version": "1.5.0",
            "description_tooltip": null,
            "_model_module": "@jupyter-widgets/controls",
            "layout": "IPY_MODEL_be6672f3c0d74c9680f638fcda832bc3"
          }
        },
        "e364951f20b54c75a9fc872bcadc4e3e": {
          "model_module": "@jupyter-widgets/controls",
          "model_name": "DescriptionStyleModel",
          "model_module_version": "1.5.0",
          "state": {
            "_view_name": "StyleView",
            "_model_name": "DescriptionStyleModel",
            "description_width": "",
            "_view_module": "@jupyter-widgets/base",
            "_model_module_version": "1.5.0",
            "_view_count": null,
            "_view_module_version": "1.2.0",
            "_model_module": "@jupyter-widgets/controls"
          }
        },
        "557a7630f4704a4695a46807a221e9ad": {
          "model_module": "@jupyter-widgets/base",
          "model_name": "LayoutModel",
          "model_module_version": "1.2.0",
          "state": {
            "_view_name": "LayoutView",
            "grid_template_rows": null,
            "right": null,
            "justify_content": null,
            "_view_module": "@jupyter-widgets/base",
            "overflow": null,
            "_model_module_version": "1.2.0",
            "_view_count": null,
            "flex_flow": null,
            "width": null,
            "min_width": null,
            "border": null,
            "align_items": null,
            "bottom": null,
            "_model_module": "@jupyter-widgets/base",
            "top": null,
            "grid_column": null,
            "overflow_y": null,
            "overflow_x": null,
            "grid_auto_flow": null,
            "grid_area": null,
            "grid_template_columns": null,
            "flex": null,
            "_model_name": "LayoutModel",
            "justify_items": null,
            "grid_row": null,
            "max_height": null,
            "align_content": null,
            "visibility": null,
            "align_self": null,
            "height": null,
            "min_height": null,
            "padding": null,
            "grid_auto_rows": null,
            "grid_gap": null,
            "max_width": null,
            "order": null,
            "_view_module_version": "1.2.0",
            "grid_template_areas": null,
            "object_position": null,
            "object_fit": null,
            "grid_auto_columns": null,
            "margin": null,
            "display": null,
            "left": null
          }
        },
        "4cb3908b73e64795a328c6b6837158ea": {
          "model_module": "@jupyter-widgets/controls",
          "model_name": "ProgressStyleModel",
          "model_module_version": "1.5.0",
          "state": {
            "_view_name": "StyleView",
            "_model_name": "ProgressStyleModel",
            "description_width": "",
            "_view_module": "@jupyter-widgets/base",
            "_model_module_version": "1.5.0",
            "_view_count": null,
            "_view_module_version": "1.2.0",
            "bar_color": null,
            "_model_module": "@jupyter-widgets/controls"
          }
        },
        "8eabfd25ab654321a35400c384355aeb": {
          "model_module": "@jupyter-widgets/base",
          "model_name": "LayoutModel",
          "model_module_version": "1.2.0",
          "state": {
            "_view_name": "LayoutView",
            "grid_template_rows": null,
            "right": null,
            "justify_content": null,
            "_view_module": "@jupyter-widgets/base",
            "overflow": null,
            "_model_module_version": "1.2.0",
            "_view_count": null,
            "flex_flow": null,
            "width": null,
            "min_width": null,
            "border": null,
            "align_items": null,
            "bottom": null,
            "_model_module": "@jupyter-widgets/base",
            "top": null,
            "grid_column": null,
            "overflow_y": null,
            "overflow_x": null,
            "grid_auto_flow": null,
            "grid_area": null,
            "grid_template_columns": null,
            "flex": null,
            "_model_name": "LayoutModel",
            "justify_items": null,
            "grid_row": null,
            "max_height": null,
            "align_content": null,
            "visibility": null,
            "align_self": null,
            "height": null,
            "min_height": null,
            "padding": null,
            "grid_auto_rows": null,
            "grid_gap": null,
            "max_width": null,
            "order": null,
            "_view_module_version": "1.2.0",
            "grid_template_areas": null,
            "object_position": null,
            "object_fit": null,
            "grid_auto_columns": null,
            "margin": null,
            "display": null,
            "left": null
          }
        },
        "797a0b78484d4fbc86bc0d3736bb05ca": {
          "model_module": "@jupyter-widgets/controls",
          "model_name": "DescriptionStyleModel",
          "model_module_version": "1.5.0",
          "state": {
            "_view_name": "StyleView",
            "_model_name": "DescriptionStyleModel",
            "description_width": "",
            "_view_module": "@jupyter-widgets/base",
            "_model_module_version": "1.5.0",
            "_view_count": null,
            "_view_module_version": "1.2.0",
            "_model_module": "@jupyter-widgets/controls"
          }
        },
        "be6672f3c0d74c9680f638fcda832bc3": {
          "model_module": "@jupyter-widgets/base",
          "model_name": "LayoutModel",
          "model_module_version": "1.2.0",
          "state": {
            "_view_name": "LayoutView",
            "grid_template_rows": null,
            "right": null,
            "justify_content": null,
            "_view_module": "@jupyter-widgets/base",
            "overflow": null,
            "_model_module_version": "1.2.0",
            "_view_count": null,
            "flex_flow": null,
            "width": null,
            "min_width": null,
            "border": null,
            "align_items": null,
            "bottom": null,
            "_model_module": "@jupyter-widgets/base",
            "top": null,
            "grid_column": null,
            "overflow_y": null,
            "overflow_x": null,
            "grid_auto_flow": null,
            "grid_area": null,
            "grid_template_columns": null,
            "flex": null,
            "_model_name": "LayoutModel",
            "justify_items": null,
            "grid_row": null,
            "max_height": null,
            "align_content": null,
            "visibility": null,
            "align_self": null,
            "height": null,
            "min_height": null,
            "padding": null,
            "grid_auto_rows": null,
            "grid_gap": null,
            "max_width": null,
            "order": null,
            "_view_module_version": "1.2.0",
            "grid_template_areas": null,
            "object_position": null,
            "object_fit": null,
            "grid_auto_columns": null,
            "margin": null,
            "display": null,
            "left": null
          }
        },
        "a728a508e3f34c98aac3d041f38ac7ff": {
          "model_module": "@jupyter-widgets/controls",
          "model_name": "HBoxModel",
          "model_module_version": "1.5.0",
          "state": {
            "_view_name": "HBoxView",
            "_dom_classes": [],
            "_model_name": "HBoxModel",
            "_view_module": "@jupyter-widgets/controls",
            "_model_module_version": "1.5.0",
            "_view_count": null,
            "_view_module_version": "1.5.0",
            "box_style": "",
            "layout": "IPY_MODEL_81d141fd1cc14d2eb59da50bc122bf06",
            "_model_module": "@jupyter-widgets/controls",
            "children": [
              "IPY_MODEL_0a4f9446db994fc5bc53346549f32aef",
              "IPY_MODEL_f280879aa0ee485a83a1cdcdef38b8e2",
              "IPY_MODEL_1b8a624b27b442d78dbef1bf6545a2be"
            ]
          }
        },
        "81d141fd1cc14d2eb59da50bc122bf06": {
          "model_module": "@jupyter-widgets/base",
          "model_name": "LayoutModel",
          "model_module_version": "1.2.0",
          "state": {
            "_view_name": "LayoutView",
            "grid_template_rows": null,
            "right": null,
            "justify_content": null,
            "_view_module": "@jupyter-widgets/base",
            "overflow": null,
            "_model_module_version": "1.2.0",
            "_view_count": null,
            "flex_flow": null,
            "width": null,
            "min_width": null,
            "border": null,
            "align_items": null,
            "bottom": null,
            "_model_module": "@jupyter-widgets/base",
            "top": null,
            "grid_column": null,
            "overflow_y": null,
            "overflow_x": null,
            "grid_auto_flow": null,
            "grid_area": null,
            "grid_template_columns": null,
            "flex": null,
            "_model_name": "LayoutModel",
            "justify_items": null,
            "grid_row": null,
            "max_height": null,
            "align_content": null,
            "visibility": null,
            "align_self": null,
            "height": null,
            "min_height": null,
            "padding": null,
            "grid_auto_rows": null,
            "grid_gap": null,
            "max_width": null,
            "order": null,
            "_view_module_version": "1.2.0",
            "grid_template_areas": null,
            "object_position": null,
            "object_fit": null,
            "grid_auto_columns": null,
            "margin": null,
            "display": null,
            "left": null
          }
        },
        "0a4f9446db994fc5bc53346549f32aef": {
          "model_module": "@jupyter-widgets/controls",
          "model_name": "HTMLModel",
          "model_module_version": "1.5.0",
          "state": {
            "_view_name": "HTMLView",
            "style": "IPY_MODEL_5df92160e58941eab3c0fb8173a1f603",
            "_dom_classes": [],
            "description": "",
            "_model_name": "HTMLModel",
            "placeholder": "​",
            "_view_module": "@jupyter-widgets/controls",
            "_model_module_version": "1.5.0",
            "value": "",
            "_view_count": null,
            "_view_module_version": "1.5.0",
            "description_tooltip": null,
            "_model_module": "@jupyter-widgets/controls",
            "layout": "IPY_MODEL_9302bb8561664ae58b3b30a49a76778f"
          }
        },
        "f280879aa0ee485a83a1cdcdef38b8e2": {
          "model_module": "@jupyter-widgets/controls",
          "model_name": "FloatProgressModel",
          "model_module_version": "1.5.0",
          "state": {
            "_view_name": "ProgressView",
            "style": "IPY_MODEL_e9780d7bbb59423d9a1ffe63b96519a3",
            "_dom_classes": [],
            "description": "",
            "_model_name": "FloatProgressModel",
            "bar_style": "success",
            "max": 28881,
            "_view_module": "@jupyter-widgets/controls",
            "_model_module_version": "1.5.0",
            "value": 28881,
            "_view_count": null,
            "_view_module_version": "1.5.0",
            "orientation": "horizontal",
            "min": 0,
            "description_tooltip": null,
            "_model_module": "@jupyter-widgets/controls",
            "layout": "IPY_MODEL_92a8705103e34891b812ae7ffc3afcc0"
          }
        },
        "1b8a624b27b442d78dbef1bf6545a2be": {
          "model_module": "@jupyter-widgets/controls",
          "model_name": "HTMLModel",
          "model_module_version": "1.5.0",
          "state": {
            "_view_name": "HTMLView",
            "style": "IPY_MODEL_2774232995a54a1a8d00da3e1053beee",
            "_dom_classes": [],
            "description": "",
            "_model_name": "HTMLModel",
            "placeholder": "​",
            "_view_module": "@jupyter-widgets/controls",
            "_model_module_version": "1.5.0",
            "value": " 29696/? [00:00&lt;00:00, 731161.26it/s]",
            "_view_count": null,
            "_view_module_version": "1.5.0",
            "description_tooltip": null,
            "_model_module": "@jupyter-widgets/controls",
            "layout": "IPY_MODEL_105fb93fdd0e463ca330a31405bafe92"
          }
        },
        "5df92160e58941eab3c0fb8173a1f603": {
          "model_module": "@jupyter-widgets/controls",
          "model_name": "DescriptionStyleModel",
          "model_module_version": "1.5.0",
          "state": {
            "_view_name": "StyleView",
            "_model_name": "DescriptionStyleModel",
            "description_width": "",
            "_view_module": "@jupyter-widgets/base",
            "_model_module_version": "1.5.0",
            "_view_count": null,
            "_view_module_version": "1.2.0",
            "_model_module": "@jupyter-widgets/controls"
          }
        },
        "9302bb8561664ae58b3b30a49a76778f": {
          "model_module": "@jupyter-widgets/base",
          "model_name": "LayoutModel",
          "model_module_version": "1.2.0",
          "state": {
            "_view_name": "LayoutView",
            "grid_template_rows": null,
            "right": null,
            "justify_content": null,
            "_view_module": "@jupyter-widgets/base",
            "overflow": null,
            "_model_module_version": "1.2.0",
            "_view_count": null,
            "flex_flow": null,
            "width": null,
            "min_width": null,
            "border": null,
            "align_items": null,
            "bottom": null,
            "_model_module": "@jupyter-widgets/base",
            "top": null,
            "grid_column": null,
            "overflow_y": null,
            "overflow_x": null,
            "grid_auto_flow": null,
            "grid_area": null,
            "grid_template_columns": null,
            "flex": null,
            "_model_name": "LayoutModel",
            "justify_items": null,
            "grid_row": null,
            "max_height": null,
            "align_content": null,
            "visibility": null,
            "align_self": null,
            "height": null,
            "min_height": null,
            "padding": null,
            "grid_auto_rows": null,
            "grid_gap": null,
            "max_width": null,
            "order": null,
            "_view_module_version": "1.2.0",
            "grid_template_areas": null,
            "object_position": null,
            "object_fit": null,
            "grid_auto_columns": null,
            "margin": null,
            "display": null,
            "left": null
          }
        },
        "e9780d7bbb59423d9a1ffe63b96519a3": {
          "model_module": "@jupyter-widgets/controls",
          "model_name": "ProgressStyleModel",
          "model_module_version": "1.5.0",
          "state": {
            "_view_name": "StyleView",
            "_model_name": "ProgressStyleModel",
            "description_width": "",
            "_view_module": "@jupyter-widgets/base",
            "_model_module_version": "1.5.0",
            "_view_count": null,
            "_view_module_version": "1.2.0",
            "bar_color": null,
            "_model_module": "@jupyter-widgets/controls"
          }
        },
        "92a8705103e34891b812ae7ffc3afcc0": {
          "model_module": "@jupyter-widgets/base",
          "model_name": "LayoutModel",
          "model_module_version": "1.2.0",
          "state": {
            "_view_name": "LayoutView",
            "grid_template_rows": null,
            "right": null,
            "justify_content": null,
            "_view_module": "@jupyter-widgets/base",
            "overflow": null,
            "_model_module_version": "1.2.0",
            "_view_count": null,
            "flex_flow": null,
            "width": null,
            "min_width": null,
            "border": null,
            "align_items": null,
            "bottom": null,
            "_model_module": "@jupyter-widgets/base",
            "top": null,
            "grid_column": null,
            "overflow_y": null,
            "overflow_x": null,
            "grid_auto_flow": null,
            "grid_area": null,
            "grid_template_columns": null,
            "flex": null,
            "_model_name": "LayoutModel",
            "justify_items": null,
            "grid_row": null,
            "max_height": null,
            "align_content": null,
            "visibility": null,
            "align_self": null,
            "height": null,
            "min_height": null,
            "padding": null,
            "grid_auto_rows": null,
            "grid_gap": null,
            "max_width": null,
            "order": null,
            "_view_module_version": "1.2.0",
            "grid_template_areas": null,
            "object_position": null,
            "object_fit": null,
            "grid_auto_columns": null,
            "margin": null,
            "display": null,
            "left": null
          }
        },
        "2774232995a54a1a8d00da3e1053beee": {
          "model_module": "@jupyter-widgets/controls",
          "model_name": "DescriptionStyleModel",
          "model_module_version": "1.5.0",
          "state": {
            "_view_name": "StyleView",
            "_model_name": "DescriptionStyleModel",
            "description_width": "",
            "_view_module": "@jupyter-widgets/base",
            "_model_module_version": "1.5.0",
            "_view_count": null,
            "_view_module_version": "1.2.0",
            "_model_module": "@jupyter-widgets/controls"
          }
        },
        "105fb93fdd0e463ca330a31405bafe92": {
          "model_module": "@jupyter-widgets/base",
          "model_name": "LayoutModel",
          "model_module_version": "1.2.0",
          "state": {
            "_view_name": "LayoutView",
            "grid_template_rows": null,
            "right": null,
            "justify_content": null,
            "_view_module": "@jupyter-widgets/base",
            "overflow": null,
            "_model_module_version": "1.2.0",
            "_view_count": null,
            "flex_flow": null,
            "width": null,
            "min_width": null,
            "border": null,
            "align_items": null,
            "bottom": null,
            "_model_module": "@jupyter-widgets/base",
            "top": null,
            "grid_column": null,
            "overflow_y": null,
            "overflow_x": null,
            "grid_auto_flow": null,
            "grid_area": null,
            "grid_template_columns": null,
            "flex": null,
            "_model_name": "LayoutModel",
            "justify_items": null,
            "grid_row": null,
            "max_height": null,
            "align_content": null,
            "visibility": null,
            "align_self": null,
            "height": null,
            "min_height": null,
            "padding": null,
            "grid_auto_rows": null,
            "grid_gap": null,
            "max_width": null,
            "order": null,
            "_view_module_version": "1.2.0",
            "grid_template_areas": null,
            "object_position": null,
            "object_fit": null,
            "grid_auto_columns": null,
            "margin": null,
            "display": null,
            "left": null
          }
        },
        "6a4b3179ce0347d888cbcce83931bdf9": {
          "model_module": "@jupyter-widgets/controls",
          "model_name": "HBoxModel",
          "model_module_version": "1.5.0",
          "state": {
            "_view_name": "HBoxView",
            "_dom_classes": [],
            "_model_name": "HBoxModel",
            "_view_module": "@jupyter-widgets/controls",
            "_model_module_version": "1.5.0",
            "_view_count": null,
            "_view_module_version": "1.5.0",
            "box_style": "",
            "layout": "IPY_MODEL_91836ea4b94d49d59d5340936480c083",
            "_model_module": "@jupyter-widgets/controls",
            "children": [
              "IPY_MODEL_41269ccb3419408e9265f79a54b721b0",
              "IPY_MODEL_b04aaf969db045b3940da965c2522faf",
              "IPY_MODEL_c4e32669f8c542bbb8b18d14f2896144"
            ]
          }
        },
        "91836ea4b94d49d59d5340936480c083": {
          "model_module": "@jupyter-widgets/base",
          "model_name": "LayoutModel",
          "model_module_version": "1.2.0",
          "state": {
            "_view_name": "LayoutView",
            "grid_template_rows": null,
            "right": null,
            "justify_content": null,
            "_view_module": "@jupyter-widgets/base",
            "overflow": null,
            "_model_module_version": "1.2.0",
            "_view_count": null,
            "flex_flow": null,
            "width": null,
            "min_width": null,
            "border": null,
            "align_items": null,
            "bottom": null,
            "_model_module": "@jupyter-widgets/base",
            "top": null,
            "grid_column": null,
            "overflow_y": null,
            "overflow_x": null,
            "grid_auto_flow": null,
            "grid_area": null,
            "grid_template_columns": null,
            "flex": null,
            "_model_name": "LayoutModel",
            "justify_items": null,
            "grid_row": null,
            "max_height": null,
            "align_content": null,
            "visibility": null,
            "align_self": null,
            "height": null,
            "min_height": null,
            "padding": null,
            "grid_auto_rows": null,
            "grid_gap": null,
            "max_width": null,
            "order": null,
            "_view_module_version": "1.2.0",
            "grid_template_areas": null,
            "object_position": null,
            "object_fit": null,
            "grid_auto_columns": null,
            "margin": null,
            "display": null,
            "left": null
          }
        },
        "41269ccb3419408e9265f79a54b721b0": {
          "model_module": "@jupyter-widgets/controls",
          "model_name": "HTMLModel",
          "model_module_version": "1.5.0",
          "state": {
            "_view_name": "HTMLView",
            "style": "IPY_MODEL_699da425e3f3428d902d5b86791b0188",
            "_dom_classes": [],
            "description": "",
            "_model_name": "HTMLModel",
            "placeholder": "​",
            "_view_module": "@jupyter-widgets/controls",
            "_model_module_version": "1.5.0",
            "value": "",
            "_view_count": null,
            "_view_module_version": "1.5.0",
            "description_tooltip": null,
            "_model_module": "@jupyter-widgets/controls",
            "layout": "IPY_MODEL_cc61eb56d8e64c54b4fa1497f1aa04ca"
          }
        },
        "b04aaf969db045b3940da965c2522faf": {
          "model_module": "@jupyter-widgets/controls",
          "model_name": "FloatProgressModel",
          "model_module_version": "1.5.0",
          "state": {
            "_view_name": "ProgressView",
            "style": "IPY_MODEL_c63760083c1a4101aea3b6c2c5656260",
            "_dom_classes": [],
            "description": "",
            "_model_name": "FloatProgressModel",
            "bar_style": "success",
            "max": 1648877,
            "_view_module": "@jupyter-widgets/controls",
            "_model_module_version": "1.5.0",
            "value": 1648877,
            "_view_count": null,
            "_view_module_version": "1.5.0",
            "orientation": "horizontal",
            "min": 0,
            "description_tooltip": null,
            "_model_module": "@jupyter-widgets/controls",
            "layout": "IPY_MODEL_b90d57759c3846eda483003e51041d15"
          }
        },
        "c4e32669f8c542bbb8b18d14f2896144": {
          "model_module": "@jupyter-widgets/controls",
          "model_name": "HTMLModel",
          "model_module_version": "1.5.0",
          "state": {
            "_view_name": "HTMLView",
            "style": "IPY_MODEL_730352ae798a4784a7f4eac92dddc776",
            "_dom_classes": [],
            "description": "",
            "_model_name": "HTMLModel",
            "placeholder": "​",
            "_view_module": "@jupyter-widgets/controls",
            "_model_module_version": "1.5.0",
            "value": " 1649664/? [00:00&lt;00:00, 4599177.18it/s]",
            "_view_count": null,
            "_view_module_version": "1.5.0",
            "description_tooltip": null,
            "_model_module": "@jupyter-widgets/controls",
            "layout": "IPY_MODEL_844a12efc6b742d6b96ce3c59a9added"
          }
        },
        "699da425e3f3428d902d5b86791b0188": {
          "model_module": "@jupyter-widgets/controls",
          "model_name": "DescriptionStyleModel",
          "model_module_version": "1.5.0",
          "state": {
            "_view_name": "StyleView",
            "_model_name": "DescriptionStyleModel",
            "description_width": "",
            "_view_module": "@jupyter-widgets/base",
            "_model_module_version": "1.5.0",
            "_view_count": null,
            "_view_module_version": "1.2.0",
            "_model_module": "@jupyter-widgets/controls"
          }
        },
        "cc61eb56d8e64c54b4fa1497f1aa04ca": {
          "model_module": "@jupyter-widgets/base",
          "model_name": "LayoutModel",
          "model_module_version": "1.2.0",
          "state": {
            "_view_name": "LayoutView",
            "grid_template_rows": null,
            "right": null,
            "justify_content": null,
            "_view_module": "@jupyter-widgets/base",
            "overflow": null,
            "_model_module_version": "1.2.0",
            "_view_count": null,
            "flex_flow": null,
            "width": null,
            "min_width": null,
            "border": null,
            "align_items": null,
            "bottom": null,
            "_model_module": "@jupyter-widgets/base",
            "top": null,
            "grid_column": null,
            "overflow_y": null,
            "overflow_x": null,
            "grid_auto_flow": null,
            "grid_area": null,
            "grid_template_columns": null,
            "flex": null,
            "_model_name": "LayoutModel",
            "justify_items": null,
            "grid_row": null,
            "max_height": null,
            "align_content": null,
            "visibility": null,
            "align_self": null,
            "height": null,
            "min_height": null,
            "padding": null,
            "grid_auto_rows": null,
            "grid_gap": null,
            "max_width": null,
            "order": null,
            "_view_module_version": "1.2.0",
            "grid_template_areas": null,
            "object_position": null,
            "object_fit": null,
            "grid_auto_columns": null,
            "margin": null,
            "display": null,
            "left": null
          }
        },
        "c63760083c1a4101aea3b6c2c5656260": {
          "model_module": "@jupyter-widgets/controls",
          "model_name": "ProgressStyleModel",
          "model_module_version": "1.5.0",
          "state": {
            "_view_name": "StyleView",
            "_model_name": "ProgressStyleModel",
            "description_width": "",
            "_view_module": "@jupyter-widgets/base",
            "_model_module_version": "1.5.0",
            "_view_count": null,
            "_view_module_version": "1.2.0",
            "bar_color": null,
            "_model_module": "@jupyter-widgets/controls"
          }
        },
        "b90d57759c3846eda483003e51041d15": {
          "model_module": "@jupyter-widgets/base",
          "model_name": "LayoutModel",
          "model_module_version": "1.2.0",
          "state": {
            "_view_name": "LayoutView",
            "grid_template_rows": null,
            "right": null,
            "justify_content": null,
            "_view_module": "@jupyter-widgets/base",
            "overflow": null,
            "_model_module_version": "1.2.0",
            "_view_count": null,
            "flex_flow": null,
            "width": null,
            "min_width": null,
            "border": null,
            "align_items": null,
            "bottom": null,
            "_model_module": "@jupyter-widgets/base",
            "top": null,
            "grid_column": null,
            "overflow_y": null,
            "overflow_x": null,
            "grid_auto_flow": null,
            "grid_area": null,
            "grid_template_columns": null,
            "flex": null,
            "_model_name": "LayoutModel",
            "justify_items": null,
            "grid_row": null,
            "max_height": null,
            "align_content": null,
            "visibility": null,
            "align_self": null,
            "height": null,
            "min_height": null,
            "padding": null,
            "grid_auto_rows": null,
            "grid_gap": null,
            "max_width": null,
            "order": null,
            "_view_module_version": "1.2.0",
            "grid_template_areas": null,
            "object_position": null,
            "object_fit": null,
            "grid_auto_columns": null,
            "margin": null,
            "display": null,
            "left": null
          }
        },
        "730352ae798a4784a7f4eac92dddc776": {
          "model_module": "@jupyter-widgets/controls",
          "model_name": "DescriptionStyleModel",
          "model_module_version": "1.5.0",
          "state": {
            "_view_name": "StyleView",
            "_model_name": "DescriptionStyleModel",
            "description_width": "",
            "_view_module": "@jupyter-widgets/base",
            "_model_module_version": "1.5.0",
            "_view_count": null,
            "_view_module_version": "1.2.0",
            "_model_module": "@jupyter-widgets/controls"
          }
        },
        "844a12efc6b742d6b96ce3c59a9added": {
          "model_module": "@jupyter-widgets/base",
          "model_name": "LayoutModel",
          "model_module_version": "1.2.0",
          "state": {
            "_view_name": "LayoutView",
            "grid_template_rows": null,
            "right": null,
            "justify_content": null,
            "_view_module": "@jupyter-widgets/base",
            "overflow": null,
            "_model_module_version": "1.2.0",
            "_view_count": null,
            "flex_flow": null,
            "width": null,
            "min_width": null,
            "border": null,
            "align_items": null,
            "bottom": null,
            "_model_module": "@jupyter-widgets/base",
            "top": null,
            "grid_column": null,
            "overflow_y": null,
            "overflow_x": null,
            "grid_auto_flow": null,
            "grid_area": null,
            "grid_template_columns": null,
            "flex": null,
            "_model_name": "LayoutModel",
            "justify_items": null,
            "grid_row": null,
            "max_height": null,
            "align_content": null,
            "visibility": null,
            "align_self": null,
            "height": null,
            "min_height": null,
            "padding": null,
            "grid_auto_rows": null,
            "grid_gap": null,
            "max_width": null,
            "order": null,
            "_view_module_version": "1.2.0",
            "grid_template_areas": null,
            "object_position": null,
            "object_fit": null,
            "grid_auto_columns": null,
            "margin": null,
            "display": null,
            "left": null
          }
        },
        "ef56a588cc4644fb935a5b604a65ea0f": {
          "model_module": "@jupyter-widgets/controls",
          "model_name": "HBoxModel",
          "model_module_version": "1.5.0",
          "state": {
            "_view_name": "HBoxView",
            "_dom_classes": [],
            "_model_name": "HBoxModel",
            "_view_module": "@jupyter-widgets/controls",
            "_model_module_version": "1.5.0",
            "_view_count": null,
            "_view_module_version": "1.5.0",
            "box_style": "",
            "layout": "IPY_MODEL_f1e442988dca4e43aa5047805069d6db",
            "_model_module": "@jupyter-widgets/controls",
            "children": [
              "IPY_MODEL_3dd9fa6b5f834aefb06a0d1ddfe5caba",
              "IPY_MODEL_1c0a8bf63c414b2dab7634f9094a7ac2",
              "IPY_MODEL_405a19fc0ee24b1b87fd5ca7c685d86f"
            ]
          }
        },
        "f1e442988dca4e43aa5047805069d6db": {
          "model_module": "@jupyter-widgets/base",
          "model_name": "LayoutModel",
          "model_module_version": "1.2.0",
          "state": {
            "_view_name": "LayoutView",
            "grid_template_rows": null,
            "right": null,
            "justify_content": null,
            "_view_module": "@jupyter-widgets/base",
            "overflow": null,
            "_model_module_version": "1.2.0",
            "_view_count": null,
            "flex_flow": null,
            "width": null,
            "min_width": null,
            "border": null,
            "align_items": null,
            "bottom": null,
            "_model_module": "@jupyter-widgets/base",
            "top": null,
            "grid_column": null,
            "overflow_y": null,
            "overflow_x": null,
            "grid_auto_flow": null,
            "grid_area": null,
            "grid_template_columns": null,
            "flex": null,
            "_model_name": "LayoutModel",
            "justify_items": null,
            "grid_row": null,
            "max_height": null,
            "align_content": null,
            "visibility": null,
            "align_self": null,
            "height": null,
            "min_height": null,
            "padding": null,
            "grid_auto_rows": null,
            "grid_gap": null,
            "max_width": null,
            "order": null,
            "_view_module_version": "1.2.0",
            "grid_template_areas": null,
            "object_position": null,
            "object_fit": null,
            "grid_auto_columns": null,
            "margin": null,
            "display": null,
            "left": null
          }
        },
        "3dd9fa6b5f834aefb06a0d1ddfe5caba": {
          "model_module": "@jupyter-widgets/controls",
          "model_name": "HTMLModel",
          "model_module_version": "1.5.0",
          "state": {
            "_view_name": "HTMLView",
            "style": "IPY_MODEL_10f1af3ee734445e88fd47a627957114",
            "_dom_classes": [],
            "description": "",
            "_model_name": "HTMLModel",
            "placeholder": "​",
            "_view_module": "@jupyter-widgets/controls",
            "_model_module_version": "1.5.0",
            "value": "",
            "_view_count": null,
            "_view_module_version": "1.5.0",
            "description_tooltip": null,
            "_model_module": "@jupyter-widgets/controls",
            "layout": "IPY_MODEL_c38dfa6d1af74db1ac70b08514643a0e"
          }
        },
        "1c0a8bf63c414b2dab7634f9094a7ac2": {
          "model_module": "@jupyter-widgets/controls",
          "model_name": "FloatProgressModel",
          "model_module_version": "1.5.0",
          "state": {
            "_view_name": "ProgressView",
            "style": "IPY_MODEL_1bfb5697ae8a42368bf06337d1f54002",
            "_dom_classes": [],
            "description": "",
            "_model_name": "FloatProgressModel",
            "bar_style": "success",
            "max": 4542,
            "_view_module": "@jupyter-widgets/controls",
            "_model_module_version": "1.5.0",
            "value": 4542,
            "_view_count": null,
            "_view_module_version": "1.5.0",
            "orientation": "horizontal",
            "min": 0,
            "description_tooltip": null,
            "_model_module": "@jupyter-widgets/controls",
            "layout": "IPY_MODEL_a91abac8ce6745efa8e4744910e283c5"
          }
        },
        "405a19fc0ee24b1b87fd5ca7c685d86f": {
          "model_module": "@jupyter-widgets/controls",
          "model_name": "HTMLModel",
          "model_module_version": "1.5.0",
          "state": {
            "_view_name": "HTMLView",
            "style": "IPY_MODEL_96e5213f0c464b9e8d03da528531b46d",
            "_dom_classes": [],
            "description": "",
            "_model_name": "HTMLModel",
            "placeholder": "​",
            "_view_module": "@jupyter-widgets/controls",
            "_model_module_version": "1.5.0",
            "value": " 5120/? [00:00&lt;00:00, 135345.32it/s]",
            "_view_count": null,
            "_view_module_version": "1.5.0",
            "description_tooltip": null,
            "_model_module": "@jupyter-widgets/controls",
            "layout": "IPY_MODEL_b597a89d10504bb899b6f7d7037d3877"
          }
        },
        "10f1af3ee734445e88fd47a627957114": {
          "model_module": "@jupyter-widgets/controls",
          "model_name": "DescriptionStyleModel",
          "model_module_version": "1.5.0",
          "state": {
            "_view_name": "StyleView",
            "_model_name": "DescriptionStyleModel",
            "description_width": "",
            "_view_module": "@jupyter-widgets/base",
            "_model_module_version": "1.5.0",
            "_view_count": null,
            "_view_module_version": "1.2.0",
            "_model_module": "@jupyter-widgets/controls"
          }
        },
        "c38dfa6d1af74db1ac70b08514643a0e": {
          "model_module": "@jupyter-widgets/base",
          "model_name": "LayoutModel",
          "model_module_version": "1.2.0",
          "state": {
            "_view_name": "LayoutView",
            "grid_template_rows": null,
            "right": null,
            "justify_content": null,
            "_view_module": "@jupyter-widgets/base",
            "overflow": null,
            "_model_module_version": "1.2.0",
            "_view_count": null,
            "flex_flow": null,
            "width": null,
            "min_width": null,
            "border": null,
            "align_items": null,
            "bottom": null,
            "_model_module": "@jupyter-widgets/base",
            "top": null,
            "grid_column": null,
            "overflow_y": null,
            "overflow_x": null,
            "grid_auto_flow": null,
            "grid_area": null,
            "grid_template_columns": null,
            "flex": null,
            "_model_name": "LayoutModel",
            "justify_items": null,
            "grid_row": null,
            "max_height": null,
            "align_content": null,
            "visibility": null,
            "align_self": null,
            "height": null,
            "min_height": null,
            "padding": null,
            "grid_auto_rows": null,
            "grid_gap": null,
            "max_width": null,
            "order": null,
            "_view_module_version": "1.2.0",
            "grid_template_areas": null,
            "object_position": null,
            "object_fit": null,
            "grid_auto_columns": null,
            "margin": null,
            "display": null,
            "left": null
          }
        },
        "1bfb5697ae8a42368bf06337d1f54002": {
          "model_module": "@jupyter-widgets/controls",
          "model_name": "ProgressStyleModel",
          "model_module_version": "1.5.0",
          "state": {
            "_view_name": "StyleView",
            "_model_name": "ProgressStyleModel",
            "description_width": "",
            "_view_module": "@jupyter-widgets/base",
            "_model_module_version": "1.5.0",
            "_view_count": null,
            "_view_module_version": "1.2.0",
            "bar_color": null,
            "_model_module": "@jupyter-widgets/controls"
          }
        },
        "a91abac8ce6745efa8e4744910e283c5": {
          "model_module": "@jupyter-widgets/base",
          "model_name": "LayoutModel",
          "model_module_version": "1.2.0",
          "state": {
            "_view_name": "LayoutView",
            "grid_template_rows": null,
            "right": null,
            "justify_content": null,
            "_view_module": "@jupyter-widgets/base",
            "overflow": null,
            "_model_module_version": "1.2.0",
            "_view_count": null,
            "flex_flow": null,
            "width": null,
            "min_width": null,
            "border": null,
            "align_items": null,
            "bottom": null,
            "_model_module": "@jupyter-widgets/base",
            "top": null,
            "grid_column": null,
            "overflow_y": null,
            "overflow_x": null,
            "grid_auto_flow": null,
            "grid_area": null,
            "grid_template_columns": null,
            "flex": null,
            "_model_name": "LayoutModel",
            "justify_items": null,
            "grid_row": null,
            "max_height": null,
            "align_content": null,
            "visibility": null,
            "align_self": null,
            "height": null,
            "min_height": null,
            "padding": null,
            "grid_auto_rows": null,
            "grid_gap": null,
            "max_width": null,
            "order": null,
            "_view_module_version": "1.2.0",
            "grid_template_areas": null,
            "object_position": null,
            "object_fit": null,
            "grid_auto_columns": null,
            "margin": null,
            "display": null,
            "left": null
          }
        },
        "96e5213f0c464b9e8d03da528531b46d": {
          "model_module": "@jupyter-widgets/controls",
          "model_name": "DescriptionStyleModel",
          "model_module_version": "1.5.0",
          "state": {
            "_view_name": "StyleView",
            "_model_name": "DescriptionStyleModel",
            "description_width": "",
            "_view_module": "@jupyter-widgets/base",
            "_model_module_version": "1.5.0",
            "_view_count": null,
            "_view_module_version": "1.2.0",
            "_model_module": "@jupyter-widgets/controls"
          }
        },
        "b597a89d10504bb899b6f7d7037d3877": {
          "model_module": "@jupyter-widgets/base",
          "model_name": "LayoutModel",
          "model_module_version": "1.2.0",
          "state": {
            "_view_name": "LayoutView",
            "grid_template_rows": null,
            "right": null,
            "justify_content": null,
            "_view_module": "@jupyter-widgets/base",
            "overflow": null,
            "_model_module_version": "1.2.0",
            "_view_count": null,
            "flex_flow": null,
            "width": null,
            "min_width": null,
            "border": null,
            "align_items": null,
            "bottom": null,
            "_model_module": "@jupyter-widgets/base",
            "top": null,
            "grid_column": null,
            "overflow_y": null,
            "overflow_x": null,
            "grid_auto_flow": null,
            "grid_area": null,
            "grid_template_columns": null,
            "flex": null,
            "_model_name": "LayoutModel",
            "justify_items": null,
            "grid_row": null,
            "max_height": null,
            "align_content": null,
            "visibility": null,
            "align_self": null,
            "height": null,
            "min_height": null,
            "padding": null,
            "grid_auto_rows": null,
            "grid_gap": null,
            "max_width": null,
            "order": null,
            "_view_module_version": "1.2.0",
            "grid_template_areas": null,
            "object_position": null,
            "object_fit": null,
            "grid_auto_columns": null,
            "margin": null,
            "display": null,
            "left": null
          }
        }
      }
    }
  },
  "cells": [
    {
      "cell_type": "markdown",
      "metadata": {
        "id": "view-in-github",
        "colab_type": "text"
      },
      "source": [
        "<a href=\"https://colab.research.google.com/github/cshah1995/Deep-Learning-MNIST-data/blob/main/MNIST_image_classification_DNN.ipynb\" target=\"_parent\"><img src=\"https://colab.research.google.com/assets/colab-badge.svg\" alt=\"Open In Colab\"/></a>"
      ]
    },
    {
      "cell_type": "markdown",
      "metadata": {
        "id": "ayaIlELM2qH1"
      },
      "source": [
        "#Importing all the important libraries and packages"
      ]
    },
    {
      "cell_type": "code",
      "metadata": {
        "id": "6rb20Oz400K_"
      },
      "source": [
        "import numpy as np\n",
        "import matplotlib\n",
        "import matplotlib.pyplot as plt\n",
        "%matplotlib inline\n",
        "\n",
        "import torch as t\n",
        "import torchvision as tv\n",
        "\n",
        "from torchvision.transforms import ToTensor\n",
        "from torchvision.datasets import MNIST\n",
        "from torchvision.utils import make_grid\n",
        "\n",
        "from torch.utils.data.dataloader import DataLoader\n",
        "from torch.utils.data import random_split\n",
        "import torch.nn as nn\n",
        "import torch.nn.functional as F\n",
        "\n",
        "matplotlib.rcParams['figure.facecolor'] = '#ffffff'"
      ],
      "execution_count": 27,
      "outputs": []
    },
    {
      "cell_type": "markdown",
      "metadata": {
        "id": "c5k5Ygxj2wXz"
      },
      "source": [
        "#Loading the dataset"
      ]
    },
    {
      "cell_type": "code",
      "metadata": {
        "colab": {
          "base_uri": "https://localhost:8080/",
          "height": 457,
          "referenced_widgets": [
            "53ca957b535044b78d71f6429e18286d",
            "82c3ab997a9e4fbb9e83f304ebf97753",
            "d9f5d2a5f0be4eb697d95bfdc7259368",
            "6e8670072c1e4b818d9e293166ad79be",
            "5b835ce102d14007a45e7da2fa549d2b",
            "e364951f20b54c75a9fc872bcadc4e3e",
            "557a7630f4704a4695a46807a221e9ad",
            "4cb3908b73e64795a328c6b6837158ea",
            "8eabfd25ab654321a35400c384355aeb",
            "797a0b78484d4fbc86bc0d3736bb05ca",
            "be6672f3c0d74c9680f638fcda832bc3",
            "a728a508e3f34c98aac3d041f38ac7ff",
            "81d141fd1cc14d2eb59da50bc122bf06",
            "0a4f9446db994fc5bc53346549f32aef",
            "f280879aa0ee485a83a1cdcdef38b8e2",
            "1b8a624b27b442d78dbef1bf6545a2be",
            "5df92160e58941eab3c0fb8173a1f603",
            "9302bb8561664ae58b3b30a49a76778f",
            "e9780d7bbb59423d9a1ffe63b96519a3",
            "92a8705103e34891b812ae7ffc3afcc0",
            "2774232995a54a1a8d00da3e1053beee",
            "105fb93fdd0e463ca330a31405bafe92",
            "6a4b3179ce0347d888cbcce83931bdf9",
            "91836ea4b94d49d59d5340936480c083",
            "41269ccb3419408e9265f79a54b721b0",
            "b04aaf969db045b3940da965c2522faf",
            "c4e32669f8c542bbb8b18d14f2896144",
            "699da425e3f3428d902d5b86791b0188",
            "cc61eb56d8e64c54b4fa1497f1aa04ca",
            "c63760083c1a4101aea3b6c2c5656260",
            "b90d57759c3846eda483003e51041d15",
            "730352ae798a4784a7f4eac92dddc776",
            "844a12efc6b742d6b96ce3c59a9added",
            "ef56a588cc4644fb935a5b604a65ea0f",
            "f1e442988dca4e43aa5047805069d6db",
            "3dd9fa6b5f834aefb06a0d1ddfe5caba",
            "1c0a8bf63c414b2dab7634f9094a7ac2",
            "405a19fc0ee24b1b87fd5ca7c685d86f",
            "10f1af3ee734445e88fd47a627957114",
            "c38dfa6d1af74db1ac70b08514643a0e",
            "1bfb5697ae8a42368bf06337d1f54002",
            "a91abac8ce6745efa8e4744910e283c5",
            "96e5213f0c464b9e8d03da528531b46d",
            "b597a89d10504bb899b6f7d7037d3877"
          ]
        },
        "id": "pUyUSKdD2mQw",
        "outputId": "dbd853c9-ec0c-4a36-ea67-360fd84f2fc8"
      },
      "source": [
        "data = MNIST(root = 'data/', download = True, transform = ToTensor())"
      ],
      "execution_count": 4,
      "outputs": [
        {
          "output_type": "stream",
          "name": "stdout",
          "text": [
            "Downloading http://yann.lecun.com/exdb/mnist/train-images-idx3-ubyte.gz\n",
            "Downloading http://yann.lecun.com/exdb/mnist/train-images-idx3-ubyte.gz to data/MNIST/raw/train-images-idx3-ubyte.gz\n"
          ]
        },
        {
          "output_type": "display_data",
          "data": {
            "application/vnd.jupyter.widget-view+json": {
              "model_id": "53ca957b535044b78d71f6429e18286d",
              "version_minor": 0,
              "version_major": 2
            },
            "text/plain": [
              "  0%|          | 0/9912422 [00:00<?, ?it/s]"
            ]
          },
          "metadata": {}
        },
        {
          "output_type": "stream",
          "name": "stdout",
          "text": [
            "Extracting data/MNIST/raw/train-images-idx3-ubyte.gz to data/MNIST/raw\n",
            "\n",
            "Downloading http://yann.lecun.com/exdb/mnist/train-labels-idx1-ubyte.gz\n",
            "Downloading http://yann.lecun.com/exdb/mnist/train-labels-idx1-ubyte.gz to data/MNIST/raw/train-labels-idx1-ubyte.gz\n"
          ]
        },
        {
          "output_type": "display_data",
          "data": {
            "application/vnd.jupyter.widget-view+json": {
              "model_id": "a728a508e3f34c98aac3d041f38ac7ff",
              "version_minor": 0,
              "version_major": 2
            },
            "text/plain": [
              "  0%|          | 0/28881 [00:00<?, ?it/s]"
            ]
          },
          "metadata": {}
        },
        {
          "output_type": "stream",
          "name": "stdout",
          "text": [
            "Extracting data/MNIST/raw/train-labels-idx1-ubyte.gz to data/MNIST/raw\n",
            "\n",
            "Downloading http://yann.lecun.com/exdb/mnist/t10k-images-idx3-ubyte.gz\n",
            "Downloading http://yann.lecun.com/exdb/mnist/t10k-images-idx3-ubyte.gz to data/MNIST/raw/t10k-images-idx3-ubyte.gz\n"
          ]
        },
        {
          "output_type": "display_data",
          "data": {
            "application/vnd.jupyter.widget-view+json": {
              "model_id": "6a4b3179ce0347d888cbcce83931bdf9",
              "version_minor": 0,
              "version_major": 2
            },
            "text/plain": [
              "  0%|          | 0/1648877 [00:00<?, ?it/s]"
            ]
          },
          "metadata": {}
        },
        {
          "output_type": "stream",
          "name": "stdout",
          "text": [
            "Extracting data/MNIST/raw/t10k-images-idx3-ubyte.gz to data/MNIST/raw\n",
            "\n",
            "Downloading http://yann.lecun.com/exdb/mnist/t10k-labels-idx1-ubyte.gz\n",
            "Downloading http://yann.lecun.com/exdb/mnist/t10k-labels-idx1-ubyte.gz to data/MNIST/raw/t10k-labels-idx1-ubyte.gz\n"
          ]
        },
        {
          "output_type": "display_data",
          "data": {
            "application/vnd.jupyter.widget-view+json": {
              "model_id": "ef56a588cc4644fb935a5b604a65ea0f",
              "version_minor": 0,
              "version_major": 2
            },
            "text/plain": [
              "  0%|          | 0/4542 [00:00<?, ?it/s]"
            ]
          },
          "metadata": {}
        },
        {
          "output_type": "stream",
          "name": "stdout",
          "text": [
            "Extracting data/MNIST/raw/t10k-labels-idx1-ubyte.gz to data/MNIST/raw\n",
            "\n"
          ]
        }
      ]
    },
    {
      "cell_type": "markdown",
      "metadata": {
        "id": "0AtagUs4rk-2"
      },
      "source": [
        "##Visualising the images"
      ]
    },
    {
      "cell_type": "code",
      "metadata": {
        "colab": {
          "base_uri": "https://localhost:8080/",
          "height": 284
        },
        "id": "OYFZBVGv2xg9",
        "outputId": "808d2a42-89af-486d-df19-288155f4def2"
      },
      "source": [
        "img, lbl = data[23]\n",
        "plt.imshow(img[0], cmap = 'gray')"
      ],
      "execution_count": 5,
      "outputs": [
        {
          "output_type": "execute_result",
          "data": {
            "text/plain": [
              "<matplotlib.image.AxesImage at 0x7f9eec92a210>"
            ]
          },
          "metadata": {},
          "execution_count": 5
        },
        {
          "output_type": "display_data",
          "data": {
            "image/png": "[encoded data removed]",
            "text/plain": [
              "<Figure size 432x288 with 1 Axes>"
            ]
          },
          "metadata": {}
        }
      ]
    },
    {
      "cell_type": "markdown",
      "metadata": {
        "id": "cnjAt0LdrdxG"
      },
      "source": [
        "###Using the `permute` method"
      ]
    },
    {
      "cell_type": "markdown",
      "metadata": {
        "id": "3nvmNSykqnQG"
      },
      "source": [
        "* The `permute` method allows to change the positions of the image shape.\n",
        "* Eg: (1, 28, 28) can be changed to (28, 28, 1) using the permute method as shown below:"
      ]
    },
    {
      "cell_type": "code",
      "metadata": {
        "colab": {
          "base_uri": "https://localhost:8080/"
        },
        "id": "Zf-gPOPP5N-I",
        "outputId": "9b0ac716-1a36-4654-8e47-fe1be925f558"
      },
      "source": [
        "img.shape , img.permute(1,2,0).shape"
      ],
      "execution_count": 6,
      "outputs": [
        {
          "output_type": "execute_result",
          "data": {
            "text/plain": [
              "(torch.Size([1, 28, 28]), torch.Size([28, 28, 1]))"
            ]
          },
          "metadata": {},
          "execution_count": 6
        }
      ]
    },
    {
      "cell_type": "code",
      "metadata": {
        "colab": {
          "base_uri": "https://localhost:8080/"
        },
        "id": "AU94sWe2t3Pa",
        "outputId": "35681396-5f95-480f-df47-5188a8df85da"
      },
      "source": [
        "len(data)"
      ],
      "execution_count": 7,
      "outputs": [
        {
          "output_type": "execute_result",
          "data": {
            "text/plain": [
              "60000"
            ]
          },
          "metadata": {},
          "execution_count": 7
        }
      ]
    },
    {
      "cell_type": "markdown",
      "metadata": {
        "id": "xhxHd2h8vaaF"
      },
      "source": [
        "###Using dynamic parameters"
      ]
    },
    {
      "cell_type": "code",
      "metadata": {
        "id": "10_cdbVy5il_"
      },
      "source": [
        "DVAL_SIZE = 10000 #@param {type : 'slider', min : 2500, max: 20000, step : 2500}\n",
        "DTR_SIZE = len(data) - DVAL_SIZE"
      ],
      "execution_count": 8,
      "outputs": []
    },
    {
      "cell_type": "markdown",
      "metadata": {
        "id": "1UsBxEtKvpdE"
      },
      "source": [
        "#Splitting the dataset"
      ]
    },
    {
      "cell_type": "code",
      "metadata": {
        "colab": {
          "base_uri": "https://localhost:8080/"
        },
        "id": "CBtcg5_7vmAK",
        "outputId": "b2759209-fe16-44ab-bab5-441fb5c072c5"
      },
      "source": [
        "dtr,dval = random_split(data, [DTR_SIZE, DVAL_SIZE])\n",
        "len(dtr), len(dval)"
      ],
      "execution_count": 9,
      "outputs": [
        {
          "output_type": "execute_result",
          "data": {
            "text/plain": [
              "(50000, 10000)"
            ]
          },
          "metadata": {},
          "execution_count": 9
        }
      ]
    },
    {
      "cell_type": "markdown",
      "metadata": {
        "id": "z_5RkRZfvwfi"
      },
      "source": [
        "* Lets create batches of data using `Dataloader`\n"
      ]
    },
    {
      "cell_type": "markdown",
      "metadata": {
        "id": "1fxYQEr2xkwe"
      },
      "source": [
        "##Creating batches of data"
      ]
    },
    {
      "cell_type": "code",
      "metadata": {
        "id": "mY8cHCHmt9sU"
      },
      "source": [
        "BATCH_SIZE = 128 #@param {type: 'slider', min:64, max : 256, step: 64}\n"
      ],
      "execution_count": 10,
      "outputs": []
    },
    {
      "cell_type": "code",
      "metadata": {
        "id": "uOap-6uevu-K"
      },
      "source": [
        "dtr_loader = DataLoader(dtr, batch_size = BATCH_SIZE, shuffle=True, num_workers= 2, pin_memory = True)\n",
        "dval_loader = DataLoader(dval, batch_size = BATCH_SIZE*2, num_workers= 2, pin_memory = True)"
      ],
      "execution_count": 11,
      "outputs": []
    },
    {
      "cell_type": "markdown",
      "metadata": {
        "id": "Z9c_tHwrx2bc"
      },
      "source": [
        "* For visualisation we make use of `make_grid` function.\n",
        "* We also use the `permute` method for visualising a bunch of images in form of grid."
      ]
    },
    {
      "cell_type": "code",
      "metadata": {
        "colab": {
          "base_uri": "https://localhost:8080/"
        },
        "id": "FOeXZfyMvuLx",
        "outputId": "16487a71-eda0-4890-f12e-49411e7882b1"
      },
      "source": [
        "for images, _ in dtr_loader:\n",
        "  print(images.shape)\n",
        "  break"
      ],
      "execution_count": 12,
      "outputs": [
        {
          "output_type": "stream",
          "name": "stdout",
          "text": [
            "torch.Size([128, 1, 28, 28])\n"
          ]
        }
      ]
    },
    {
      "cell_type": "markdown",
      "metadata": {
        "id": "qJxlVQWFM7yl"
      },
      "source": [
        "##Using `make_grid` to generate batch of data"
      ]
    },
    {
      "cell_type": "code",
      "metadata": {
        "colab": {
          "base_uri": "https://localhost:8080/",
          "height": 453
        },
        "id": "Xkj_Bls2vXbl",
        "outputId": "1ad95382-89dc-4c9c-e106-8c12d83a28a7"
      },
      "source": [
        "for img, _ in dtr_loader:\n",
        "  print(img.shape)\n",
        "  plt.figure(figsize=(16,8))\n",
        "  plt.axis('off')\n",
        "  plt.imshow(make_grid(img, nrow = 16).permute(1,2,0))\n",
        "  break"
      ],
      "execution_count": 13,
      "outputs": [
        {
          "output_type": "stream",
          "name": "stdout",
          "text": [
            "torch.Size([128, 1, 28, 28])\n"
          ]
        },
        {
          "output_type": "display_data",
          "data": {
            "image/png": "[encoded data removed]",
            "text/plain": [
              "<Figure size 1152x576 with 1 Axes>"
            ]
          },
          "metadata": {}
        }
      ]
    },
    {
      "cell_type": "code",
      "metadata": {
        "colab": {
          "base_uri": "https://localhost:8080/"
        },
        "id": "HEiP6-x9yv_H",
        "outputId": "714a52ce-134e-418a-b9ff-b0453074d491"
      },
      "source": [
        "t.cuda.is_available()"
      ],
      "execution_count": 14,
      "outputs": [
        {
          "output_type": "execute_result",
          "data": {
            "text/plain": [
              "True"
            ]
          },
          "metadata": {},
          "execution_count": 14
        }
      ]
    },
    {
      "cell_type": "markdown",
      "metadata": {
        "id": "4aU0u-PHM4B3"
      },
      "source": [
        "#Simple understanding of an Artificial NN\n",
        "* Using hidden layer and introducing non-linearity"
      ]
    },
    {
      "cell_type": "code",
      "metadata": {
        "colab": {
          "base_uri": "https://localhost:8080/"
        },
        "id": "VIMV8-xiNura",
        "outputId": "8570f8b2-ac76-48f6-ca59-61ecf3fc1a29"
      },
      "source": [
        "for im,lbl in dtr_loader:\n",
        "  print(im.shape)\n",
        "  input = im.reshape(-1, 784)\n",
        "  print(input)\n",
        "  print(input.shape)\n",
        "  break"
      ],
      "execution_count": 15,
      "outputs": [
        {
          "output_type": "stream",
          "name": "stdout",
          "text": [
            "torch.Size([128, 1, 28, 28])\n",
            "tensor([[0., 0., 0.,  ..., 0., 0., 0.],\n",
            "        [0., 0., 0.,  ..., 0., 0., 0.],\n",
            "        [0., 0., 0.,  ..., 0., 0., 0.],\n",
            "        ...,\n",
            "        [0., 0., 0.,  ..., 0., 0., 0.],\n",
            "        [0., 0., 0.,  ..., 0., 0., 0.],\n",
            "        [0., 0., 0.,  ..., 0., 0., 0.]])\n",
            "torch.Size([128, 784])\n"
          ]
        }
      ]
    },
    {
      "cell_type": "code",
      "metadata": {
        "colab": {
          "base_uri": "https://localhost:8080/"
        },
        "id": "MBNEB9CGNe6X",
        "outputId": "77ad1035-64dc-4e2b-ed44-0f9f5345b16f"
      },
      "source": [
        "IN_SIZE = input.shape[-1]\n",
        "HL1_SIZE = 50\n",
        "OP_SIZE = 10\n",
        "print(IN_SIZE)"
      ],
      "execution_count": 16,
      "outputs": [
        {
          "output_type": "stream",
          "name": "stdout",
          "text": [
            "784\n"
          ]
        }
      ]
    },
    {
      "cell_type": "markdown",
      "metadata": {
        "id": "K0yGe3xTX5Hl"
      },
      "source": [
        "* Below is a simple implementation of 1 batch of training data\n",
        "* We have used 1 hidden layer and introduced non-linearity by using `Relu activation` function"
      ]
    },
    {
      "cell_type": "code",
      "metadata": {
        "colab": {
          "base_uri": "https://localhost:8080/"
        },
        "id": "p0ICPiw1OOwk",
        "outputId": "56c33bfe-bdc2-482f-da14-fe5992db4c61"
      },
      "source": [
        "L1 = nn.Linear(IN_SIZE, HL1_SIZE)\n",
        "L1_op = L1(input)\n",
        "relu_op = F.relu(L1_op)\n",
        "L2 = nn.Linear(HL1_SIZE, OP_SIZE)\n",
        "L2_op = L2(relu_op)\n",
        "loss = F.cross_entropy(L2_op, lbl)\n",
        "\n",
        "input.shape[-1], relu_op.shape[-1], L2_op.shape[-1]\n"
      ],
      "execution_count": 17,
      "outputs": [
        {
          "output_type": "execute_result",
          "data": {
            "text/plain": [
              "(784, 50, 10)"
            ]
          },
          "metadata": {},
          "execution_count": 17
        }
      ]
    },
    {
      "cell_type": "code",
      "metadata": {
        "colab": {
          "base_uri": "https://localhost:8080/"
        },
        "id": "aQcAPZf1QevY",
        "outputId": "84dec75f-5aec-4181-950f-fdd26bc233f9"
      },
      "source": [
        "print(\"Let's see how the RELU unit has changed the values...\")\n",
        "print(\"\\n\")\n",
        "print(\"Highest value from Layer_1 outputs is:\", t.max(L1_op).item())\n",
        "print(\"The RELU unit output for the same is:\", t.max(relu_op).item())\n",
        "print(\"\\n\")\n",
        "print(\"We dont notice any change in the values\")\n",
        "print(\"\\n\")\n",
        "print(\"Lowest value from Layer_1 outputs is:\", t.min(L1_op).item())\n",
        "print(\"The RELU unit output for the same is:\", t.min(relu_op).item())\n",
        "print(\"\\n\")\n",
        "print(\"We can clearly see how the RELU unit converts any negative-numbers to 0\")"
      ],
      "execution_count": 18,
      "outputs": [
        {
          "output_type": "stream",
          "name": "stdout",
          "text": [
            "Let's see how the RELU unit has changed the values...\n",
            "\n",
            "\n",
            "Highest value from Layer_1 outputs is: 0.79566890001297\n",
            "The RELU unit output for the same is: 0.79566890001297\n",
            "\n",
            "\n",
            "We dont notice any change in the values\n",
            "\n",
            "\n",
            "Lowest value from Layer_1 outputs is: -0.8883882164955139\n",
            "The RELU unit output for the same is: 0.0\n",
            "\n",
            "\n",
            "We can clearly see how the RELU unit converts any negative-numbers to 0\n"
          ]
        }
      ]
    },
    {
      "cell_type": "code",
      "metadata": {
        "id": "FnJgLfGqYW1D"
      },
      "source": [
        "def accuracy(outputs, labels):\n",
        "  _, preds = t.max(outputs, dim=1)\n",
        "  return (t.tensor(t.sum(preds == labels).item()/ len(preds) * 100))"
      ],
      "execution_count": 19,
      "outputs": []
    },
    {
      "cell_type": "code",
      "metadata": {
        "colab": {
          "base_uri": "https://localhost:8080/"
        },
        "id": "f1m4rPlMTTY0",
        "outputId": "0f3195ca-4714-479f-d8d2-bb54a19dc5f6"
      },
      "source": [
        "print(loss)\n",
        "\n",
        "prob = F.softmax(L2_op, dim = 1)\n",
        "\n",
        "max_prob, pred = t.max(prob, dim = 1)\n",
        "print('pred label is:', pred[3])\n",
        "print('actual label is:', lbl[3])\n",
        "\n",
        "print(t.tensor(t.sum(pred == lbl).item()))\n",
        "\n",
        "print('The initial accuracy is:' , accuracy(L2_op, lbl), '%')"
      ],
      "execution_count": 20,
      "outputs": [
        {
          "output_type": "stream",
          "name": "stdout",
          "text": [
            "tensor(2.3275, grad_fn=<NllLossBackward0>)\n",
            "pred label is: tensor(8)\n",
            "actual label is: tensor(7)\n",
            "tensor(6)\n",
            "The initial accuracy is: tensor(4.6875) %\n"
          ]
        }
      ]
    },
    {
      "cell_type": "code",
      "metadata": {
        "id": "KpbRYz0wsloX"
      },
      "source": [
        ""
      ],
      "execution_count": 20,
      "outputs": []
    },
    {
      "cell_type": "markdown",
      "metadata": {
        "id": "7YP8ChcT1ApR"
      },
      "source": [
        "#Data modelling"
      ]
    },
    {
      "cell_type": "code",
      "metadata": {
        "id": "KqbrsouFt3dz"
      },
      "source": [
        "class MnistModel(nn.Module):\n",
        "  def __init__(self, IN_SIZE, HL1_SIZE, OP_SIZE):\n",
        "    super().__init__()\n",
        "    self.linear1 = nn.Linear(IN_SIZE, HL1_SIZE)\n",
        "    self.linear2 = nn.Linear(HL1_SIZE, OP_SIZE)\n",
        "  \n",
        "  def forward(self, xb):\n",
        "    xb = xb.view(xb.size(0),-1)\n",
        "    out = self.linear1(xb)\n",
        "    out = F.relu(out)\n",
        "    out = self.linear2(out)\n",
        "    return out\n",
        "\n",
        "  def training_step(self, batch):\n",
        "    images, labels = batch\n",
        "    out = self(images)\n",
        "    loss = F.cross_entropy(out, labels)\n",
        "    return loss\n",
        "\n",
        "  def validation_step(self, batch):\n",
        "    images, labels = batch\n",
        "    out = self(images)\n",
        "    loss = F.cross_entropy(out, labels)\n",
        "    acc = accuracy(out, labels)\n",
        "    return { 'val_loss': loss , 'val_acc': acc}\n",
        "\n",
        "  def validation_epoch_end(self, outputs):\n",
        "    batch_losses = [x['val_loss'] for x in outputs]\n",
        "    epoch_loss = t.stack(batch_losses).mean()\n",
        "    batch_acc = [x['val_acc'] for x in outputs]\n",
        "    epoch_acc = t.stack(batch_acc).mean()\n",
        "    return{'val_loss':epoch_loss.item(), 'val_acc':epoch_acc.item()}\n",
        "\n",
        "  \n",
        "  def epoch_end(self, epoch, result):\n",
        "    print('Epoch [{}], val_loss: {:.4f}, val_acc: {:.4f}'.format(epoch, result['val_loss'], result['val_acc']))"
      ],
      "execution_count": 21,
      "outputs": []
    },
    {
      "cell_type": "code",
      "metadata": {
        "id": "b_z_M-UPzFvK"
      },
      "source": [
        "model = MnistModel(IN_SIZE= IN_SIZE, HL1_SIZE=HL1_SIZE, OP_SIZE=OP_SIZE)"
      ],
      "execution_count": 22,
      "outputs": []
    },
    {
      "cell_type": "code",
      "metadata": {
        "colab": {
          "base_uri": "https://localhost:8080/"
        },
        "id": "igrfGUOxzbIN",
        "outputId": "73fcfd2c-dcfa-41f4-e876-5d480cb97d1c"
      },
      "source": [
        "for t in model.parameters():\n",
        "  print(t.shape)"
      ],
      "execution_count": 23,
      "outputs": [
        {
          "output_type": "stream",
          "name": "stdout",
          "text": [
            "torch.Size([50, 784])\n",
            "torch.Size([50])\n",
            "torch.Size([10, 50])\n",
            "torch.Size([10])\n"
          ]
        }
      ]
    },
    {
      "cell_type": "code",
      "metadata": {
        "colab": {
          "base_uri": "https://localhost:8080/"
        },
        "id": "Mn_3lX2uzjr8",
        "outputId": "5276f8fe-d957-4e6f-97ec-2c50f099af24"
      },
      "source": [
        "for image, label in dtr_loader:\n",
        "  output = model(image)\n",
        "  break\n",
        "\n",
        "loss = F.cross_entropy(output, label)\n",
        "print(loss.item())\n",
        "print(output.shape)"
      ],
      "execution_count": 24,
      "outputs": [
        {
          "output_type": "stream",
          "name": "stdout",
          "text": [
            "2.2940516471862793\n",
            "torch.Size([128, 10])\n"
          ]
        }
      ]
    },
    {
      "cell_type": "markdown",
      "metadata": {
        "id": "3wV4WJrN7d9v"
      },
      "source": [
        "##Understanding the importance of a GPU"
      ]
    },
    {
      "cell_type": "markdown",
      "metadata": {
        "id": "0kzZ6O3m1QMY"
      },
      "source": [
        "* Before beginning the training process, let's check if a GPU is available.\n",
        "* A GPU assists in a faster training process.\n",
        "* We will define a helper function to ensure if the code uses GPU on availability or defaults to a CPU."
      ]
    },
    {
      "cell_type": "code",
      "metadata": {
        "id": "y0rK8Ur20UC1"
      },
      "source": [
        "\n",
        "def get_device_type():\n",
        "\n",
        "#we call cuda from the torch package and invoke the is_available method which confirms whether a GPU is avaiable\n",
        "  if t.cuda.is_available():\n",
        "    return t.device('cuda')\n",
        "  else:\n",
        "    return t.device('CPU')"
      ],
      "execution_count": 25,
      "outputs": []
    },
    {
      "cell_type": "code",
      "metadata": {
        "colab": {
          "base_uri": "https://localhost:8080/"
        },
        "id": "-yXPop792A7J",
        "outputId": "536aa840-3b5c-4346-d857-36816e172385"
      },
      "source": [
        "dev = get_device_type()\n",
        "dev"
      ],
      "execution_count": 28,
      "outputs": [
        {
          "output_type": "execute_result",
          "data": {
            "text/plain": [
              "device(type='cuda')"
            ]
          },
          "metadata": {},
          "execution_count": 28
        }
      ]
    },
    {
      "cell_type": "markdown",
      "metadata": {
        "id": "jPP_8uJ0-zV2"
      },
      "source": [
        "* We define a function again to load the data batches generated from the dataloader to the device"
      ]
    },
    {
      "cell_type": "code",
      "metadata": {
        "id": "wALSbyPN3GQq"
      },
      "source": [
        "def to_device(data, device):\n",
        "\n",
        "  \"\"\"\" The below if condition is not really necessary, but can be handy if we want to move multiple tensor data at a time\"\"\"\n",
        "  if isinstance(data, (list,tuple)):\n",
        "    return [to_device(x, device) for x in data]\n",
        "    \"\"\"\"below part of the code loads the data to the device\"\"\"    \n",
        "  else:\n",
        "    return data.to(device, non_blocking=True)\n"
      ],
      "execution_count": 30,
      "outputs": []
    },
    {
      "cell_type": "markdown",
      "metadata": {
        "id": "RGKfxJVbELUT"
      },
      "source": [
        "* We use the `to_device` function to load the batches of data to the device as shown below"
      ]
    },
    {
      "cell_type": "code",
      "metadata": {
        "colab": {
          "base_uri": "https://localhost:8080/"
        },
        "id": "689Tv4nM2F9D",
        "outputId": "9624c787-58a5-4fa0-a566-fd7f931128f5"
      },
      "source": [
        "for img, lbl in dtr_loader:\n",
        "  print(img.shape)\n",
        "  print(img.device)\n",
        "  img = to_device(img, dev)\n",
        "  print(img.device)\n",
        "  break"
      ],
      "execution_count": 31,
      "outputs": [
        {
          "output_type": "stream",
          "name": "stdout",
          "text": [
            "torch.Size([128, 1, 28, 28])\n",
            "cpu\n",
            "cuda:0\n"
          ]
        }
      ]
    },
    {
      "cell_type": "markdown",
      "metadata": {
        "id": "RvV1Mk-IEaCJ"
      },
      "source": [
        "##Moving the batches of data to device\n",
        "\n",
        "* We create a wrapper function to move the batches of data to device "
      ]
    },
    {
      "cell_type": "code",
      "metadata": {
        "id": "k5b767qoEZe3"
      },
      "source": [
        "class DeviceDataLoader():\n",
        "  \n",
        "  def __init__(self, dataloader, device):\n",
        "    self.dataloader = dataloader\n",
        "    self.device = device\n",
        "\n",
        "  def __iter__(self):\n",
        "    for batch in self.dataloader:\n",
        "      yield to_device(batch, self.device)\n",
        "\n",
        "  def __len__(self):\n",
        "    return len(self.dataloader)\n",
        "\n"
      ],
      "execution_count": 32,
      "outputs": []
    },
    {
      "cell_type": "code",
      "metadata": {
        "id": "VM270PG-57Xf"
      },
      "source": [
        "dtr_devloader = DeviceDataLoader(dtr_loader, device = dev)\n",
        "dval_devloader = DeviceDataLoader(dval_loader, device = dev)"
      ],
      "execution_count": 33,
      "outputs": []
    },
    {
      "cell_type": "code",
      "metadata": {
        "colab": {
          "base_uri": "https://localhost:8080/"
        },
        "id": "SiU1ddTzOqS8",
        "outputId": "e1087b1d-4de7-4d6f-e31c-5fcac7a09019"
      },
      "source": [
        "for xb, yb in dtr_devloader:\n",
        "  print(xb.shape)\n",
        "  print(yb.device)\n",
        "  break"
      ],
      "execution_count": 34,
      "outputs": [
        {
          "output_type": "stream",
          "name": "stdout",
          "text": [
            "torch.Size([128, 1, 28, 28])\n",
            "cuda:0\n"
          ]
        }
      ]
    },
    {
      "cell_type": "markdown",
      "metadata": {
        "id": "T50Xm3SGRkWs"
      },
      "source": [
        "##Training and evaluating the data on the model"
      ]
    },
    {
      "cell_type": "code",
      "metadata": {
        "id": "wzzzeGfFRj3d"
      },
      "source": [
        "def evaluate(model, dval_loader):\n",
        "  outputs = [model.validation_step(batch) for batch in dval_loader]\n",
        "  return model.validation_epoch_end(outputs)\n",
        "\n",
        "def fit(epochs, lr, model, dtr_loader, dval_loader, opt_func = t.optim.SGD):\n",
        "\n",
        "  optimizer = opt_func(model.parameters(), lr)\n",
        "  history = []\n",
        "\n",
        "  for epoch in range(epochs):\n",
        "\n",
        "    for batch in dtr_loader:\n",
        "\n",
        "      loss = model.training_step(batch)\n",
        "      loss.backward()\n",
        "      optimizer.step()\n",
        "      optimizer.zero_grad()\n",
        "\n",
        "\n",
        "    result = evaluate(model, dval_loader)\n",
        "    model.epoch_end(epoch, result)\n",
        "    history.append(result)\n",
        "\n",
        "  return history"
      ],
      "execution_count": 35,
      "outputs": []
    },
    {
      "cell_type": "markdown",
      "metadata": {
        "id": "ngK00O7pSodT"
      },
      "source": [
        "* We moved the data to the GPU, but we also need to move the model to GPU"
      ]
    },
    {
      "cell_type": "code",
      "metadata": {
        "colab": {
          "base_uri": "https://localhost:8080/"
        },
        "id": "I58WHarMPXqO",
        "outputId": "7c4a9b05-4a9c-4fbd-d881-5ac6269b1e6f"
      },
      "source": [
        "model = MnistModel(IN_SIZE= IN_SIZE, HL1_SIZE=HL1_SIZE, OP_SIZE=OP_SIZE)\n",
        "to_device(model, dev)"
      ],
      "execution_count": 36,
      "outputs": [
        {
          "output_type": "execute_result",
          "data": {
            "text/plain": [
              "MnistModel(\n",
              "  (linear1): Linear(in_features=784, out_features=50, bias=True)\n",
              "  (linear2): Linear(in_features=50, out_features=10, bias=True)\n",
              ")"
            ]
          },
          "metadata": {},
          "execution_count": 36
        }
      ]
    },
    {
      "cell_type": "code",
      "metadata": {
        "colab": {
          "base_uri": "https://localhost:8080/"
        },
        "id": "fNce6Dc8S70A",
        "outputId": "8042804f-931c-4a47-fe27-e8e0fe085987"
      },
      "source": [
        "history = [evaluate(model, dval_devloader)]\n",
        "history"
      ],
      "execution_count": 37,
      "outputs": [
        {
          "output_type": "execute_result",
          "data": {
            "text/plain": [
              "[{'val_acc': 8.0859375, 'val_loss': 2.3145151138305664}]"
            ]
          },
          "metadata": {},
          "execution_count": 37
        }
      ]
    },
    {
      "cell_type": "code",
      "metadata": {
        "colab": {
          "base_uri": "https://localhost:8080/"
        },
        "id": "OWSUrLFSTRY1",
        "outputId": "0f193103-a15b-4faa-9397-4fb8f1869630"
      },
      "source": [
        "history += fit(5, 0.5, model, dtr_devloader, dval_devloader)"
      ],
      "execution_count": 38,
      "outputs": [
        {
          "output_type": "stream",
          "name": "stdout",
          "text": [
            "Epoch [0], val_loss: 0.1934, val_acc: 94.2578\n",
            "Epoch [1], val_loss: 0.1543, val_acc: 95.3223\n",
            "Epoch [2], val_loss: 0.1123, val_acc: 96.5527\n",
            "Epoch [3], val_loss: 0.1038, val_acc: 96.9043\n",
            "Epoch [4], val_loss: 0.1037, val_acc: 96.9238\n"
          ]
        }
      ]
    },
    {
      "cell_type": "code",
      "metadata": {
        "colab": {
          "base_uri": "https://localhost:8080/"
        },
        "id": "RKL9beJ_UbKo",
        "outputId": "f4bd42b7-72e7-4774-a3fa-581904ea4f58"
      },
      "source": [
        "history += fit(5, 0.1, model, dtr_devloader, dval_devloader)"
      ],
      "execution_count": 39,
      "outputs": [
        {
          "output_type": "stream",
          "name": "stdout",
          "text": [
            "Epoch [0], val_loss: 0.0883, val_acc: 97.4512\n",
            "Epoch [1], val_loss: 0.0872, val_acc: 97.4512\n",
            "Epoch [2], val_loss: 0.0870, val_acc: 97.4707\n",
            "Epoch [3], val_loss: 0.0854, val_acc: 97.4707\n",
            "Epoch [4], val_loss: 0.0854, val_acc: 97.5000\n"
          ]
        }
      ]
    },
    {
      "cell_type": "code",
      "metadata": {
        "colab": {
          "base_uri": "https://localhost:8080/"
        },
        "id": "wk620stjUmDI",
        "outputId": "a3883f2f-5785-4e1d-ff94-7d6af7000638"
      },
      "source": [
        "history += fit(5, 0.1, model, dtr_devloader, dval_devloader)"
      ],
      "execution_count": 40,
      "outputs": [
        {
          "output_type": "stream",
          "name": "stdout",
          "text": [
            "Epoch [0], val_loss: 0.0849, val_acc: 97.5781\n",
            "Epoch [1], val_loss: 0.0860, val_acc: 97.4316\n",
            "Epoch [2], val_loss: 0.0849, val_acc: 97.4219\n",
            "Epoch [3], val_loss: 0.0836, val_acc: 97.5977\n",
            "Epoch [4], val_loss: 0.0837, val_acc: 97.5586\n"
          ]
        }
      ]
    },
    {
      "cell_type": "markdown",
      "metadata": {
        "id": "s6rnTrubWCpA"
      },
      "source": [
        "##Visualise the loss and accuracy over the evaluation dataset"
      ]
    },
    {
      "cell_type": "code",
      "metadata": {
        "colab": {
          "base_uri": "https://localhost:8080/",
          "height": 297
        },
        "id": "0CXW0N_GVC3J",
        "outputId": "200b3d2b-6a15-477c-f6ef-52645e667eb1"
      },
      "source": [
        "losses = [x['val_loss'] for x in history]\n",
        "plt.plot(losses, '-x')\n",
        "plt.xlabel('Epoch')\n",
        "plt.ylabel('loss')\n"
      ],
      "execution_count": 41,
      "outputs": [
        {
          "output_type": "execute_result",
          "data": {
            "text/plain": [
              "Text(0, 0.5, 'loss')"
            ]
          },
          "metadata": {},
          "execution_count": 41
        },
        {
          "output_type": "display_data",
          "data": {
            "image/png": "[encoded data removed]",
            "text/plain": [
              "<Figure size 432x288 with 1 Axes>"
            ]
          },
          "metadata": {}
        }
      ]
    },
    {
      "cell_type": "code",
      "metadata": {
        "colab": {
          "base_uri": "https://localhost:8080/",
          "height": 297
        },
        "id": "iv-INIPXVTYp",
        "outputId": "1798e6f1-81c7-41dd-b009-46bffdd255f4"
      },
      "source": [
        "acc = [x['val_acc'] for x in history]\n",
        "plt.plot(acc, '-x')\n",
        "plt.xlabel('Epoch')\n",
        "plt.ylabel('accuracy')"
      ],
      "execution_count": 42,
      "outputs": [
        {
          "output_type": "execute_result",
          "data": {
            "text/plain": [
              "Text(0, 0.5, 'accuracy')"
            ]
          },
          "metadata": {},
          "execution_count": 42
        },
        {
          "output_type": "display_data",
          "data": {
            "image/png": "[encoded data removed]",
            "text/plain": [
              "<Figure size 432x288 with 1 Axes>"
            ]
          },
          "metadata": {}
        }
      ]
    },
    {
      "cell_type": "markdown",
      "metadata": {
        "id": "qtZ-uyUJWNuJ"
      },
      "source": [
        "#Testing the model"
      ]
    },
    {
      "cell_type": "code",
      "metadata": {
        "id": "TKSbZIA2WLDO"
      },
      "source": [
        "dtest = MNIST(root = 'data/', train=False, transform=ToTensor())"
      ],
      "execution_count": 43,
      "outputs": []
    },
    {
      "cell_type": "markdown",
      "metadata": {
        "id": "pnNw7l_OZInp"
      },
      "source": [
        "* We use the `.unsqueeze` method to feed each image of a training image as an individual batch"
      ]
    },
    {
      "cell_type": "code",
      "metadata": {
        "colab": {
          "base_uri": "https://localhost:8080/"
        },
        "id": "lFyfDdAJVnno",
        "outputId": "b4e1e420-f6a2-453b-aff7-a887fddbb9d1"
      },
      "source": [
        "#Demonstration of unsqueeze method\n",
        "\n",
        "img, lbl = dtest[0]\n",
        "print(img.shape)\n",
        "newimg = img.unsqueeze(0)\n",
        "print(newimg.shape)\n"
      ],
      "execution_count": 44,
      "outputs": [
        {
          "output_type": "stream",
          "name": "stdout",
          "text": [
            "torch.Size([1, 28, 28])\n",
            "torch.Size([1, 1, 28, 28])\n"
          ]
        }
      ]
    },
    {
      "cell_type": "code",
      "metadata": {
        "id": "VAoR3kEQY1PA"
      },
      "source": [
        "def predict_image(image, model):\n",
        "  xb = to_device(image.unsqueeze(0), dev)\n",
        "  yb = model(xb)\n",
        "\n",
        "  _, pred = t.max(yb, dim = 1)\n",
        "  return pred.item()"
      ],
      "execution_count": 45,
      "outputs": []
    },
    {
      "cell_type": "code",
      "metadata": {
        "colab": {
          "base_uri": "https://localhost:8080/",
          "height": 284
        },
        "id": "Dv0ULXm3Z2Im",
        "outputId": "fc7536e6-8113-4b13-d613-eb3bcfe12774"
      },
      "source": [
        "image, label = dtest[1250]\n",
        "plt.imshow(image[0], cmap = 'gray');\n",
        "print('Actual image is:' , label, 'predicted image is:' , predict_image(image, model))"
      ],
      "execution_count": 46,
      "outputs": [
        {
          "output_type": "stream",
          "name": "stdout",
          "text": [
            "Actual image is: 6 predicted image is: 6\n"
          ]
        },
        {
          "output_type": "display_data",
          "data": {
            "image/png": "[encoded data removed]",
            "text/plain": [
              "<Figure size 432x288 with 1 Axes>"
            ]
          },
          "metadata": {}
        }
      ]
    },
    {
      "cell_type": "code",
      "metadata": {
        "colab": {
          "base_uri": "https://localhost:8080/",
          "height": 284
        },
        "id": "vkPQM4QfaFXi",
        "outputId": "2fdead17-20f2-4b03-b89a-498b247dd220"
      },
      "source": [
        "image, label = dtest[129]\n",
        "plt.imshow(image[0], cmap = 'gray');\n",
        "print('Actual image is:' , label, 'predicted image is:' , predict_image(image, model))"
      ],
      "execution_count": 52,
      "outputs": [
        {
          "output_type": "stream",
          "name": "stdout",
          "text": [
            "Actual image is: 5 predicted image is: 5\n"
          ]
        },
        {
          "output_type": "display_data",
          "data": {
            "image/png": "[encoded data removed]",
            "text/plain": [
              "<Figure size 432x288 with 1 Axes>"
            ]
          },
          "metadata": {}
        }
      ]
    },
    {
      "cell_type": "markdown",
      "metadata": {
        "id": "6Dwphc-70V2b"
      },
      "source": [
        "#Save the model"
      ]
    },
    {
      "cell_type": "code",
      "metadata": {
        "colab": {
          "base_uri": "https://localhost:8080/"
        },
        "id": "qNDosOY30XfR",
        "outputId": "a0b65ee1-8423-4fb4-b4a4-ee3b8dc8bbd2"
      },
      "source": [
        "t.save(model.state_dict(), 'MNIST_DNN.pth')\n",
        "new_model = MnistModel(784,50,10)\n",
        "to_device(new_model, dev)\n",
        "new_model.load_state_dict(t.load('MNIST_DNN.pth'))"
      ],
      "execution_count": 71,
      "outputs": [
        {
          "output_type": "execute_result",
          "data": {
            "text/plain": [
              "<All keys matched successfully>"
            ]
          },
          "metadata": {},
          "execution_count": 71
        }
      ]
    },
    {
      "cell_type": "code",
      "metadata": {
        "id": "lv-QTXqr1G1t"
      },
      "source": [
        "dtest_loader = DeviceDataLoader(DataLoader(dtest, batch_size = BATCH_SIZE*2, num_workers= 2, pin_memory = True),dev)"
      ],
      "execution_count": 69,
      "outputs": []
    },
    {
      "cell_type": "code",
      "metadata": {
        "colab": {
          "base_uri": "https://localhost:8080/"
        },
        "id": "AUwudetK0o0i",
        "outputId": "283bbe73-1c50-4eac-b22d-93ae5822a3f1"
      },
      "source": [
        "test_result = evaluate(new_model,dtest_loader)\n",
        "#print(result)\n",
        "print(test_result)"
      ],
      "execution_count": 73,
      "outputs": [
        {
          "output_type": "stream",
          "name": "stdout",
          "text": [
            "{'val_loss': 0.08465453237295151, 'val_acc': 97.421875}\n"
          ]
        }
      ]
    },
    {
      "cell_type": "code",
      "metadata": {
        "id": "XzZNsZAO1tYB"
      },
      "source": [
        ""
      ],
      "execution_count": null,
      "outputs": []
    }
  ]
}