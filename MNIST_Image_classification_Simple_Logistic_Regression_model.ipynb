{
  "nbformat": 4,
  "nbformat_minor": 0,
  "metadata": {
    "colab": {
      "name": "MNIST Image classification - Simple Logistic Regression model.ipynb",
      "provenance": [],
      "collapsed_sections": [],
      "authorship_tag": "ABX9TyOt9G36OP3QztNpKHn1b+h1",
      "include_colab_link": true
    },
    "kernelspec": {
      "name": "python3",
      "display_name": "Python 3"
    },
    "language_info": {
      "name": "python"
    },
    "widgets": {
      "application/vnd.jupyter.widget-state+json": {
        "8ed7bc6c521b40b49afdb4ffd3b51a1f": {
          "model_module": "@jupyter-widgets/controls",
          "model_name": "HBoxModel",
          "model_module_version": "1.5.0",
          "state": {
            "_view_name": "HBoxView",
            "_dom_classes": [],
            "_model_name": "HBoxModel",
            "_view_module": "@jupyter-widgets/controls",
            "_model_module_version": "1.5.0",
            "_view_count": null,
            "_view_module_version": "1.5.0",
            "box_style": "",
            "layout": "IPY_MODEL_5dcbe7a3bf04412ba806df4374c77c72",
            "_model_module": "@jupyter-widgets/controls",
            "children": [
              "IPY_MODEL_6177a985be6c4bccb1fd17c85010e8e6",
              "IPY_MODEL_1a0438f23071422080c68d9d4d37a613",
              "IPY_MODEL_85ce831d7f0c44f9a5151fa1858ff21a"
            ]
          }
        },
        "5dcbe7a3bf04412ba806df4374c77c72": {
          "model_module": "@jupyter-widgets/base",
          "model_name": "LayoutModel",
          "model_module_version": "1.2.0",
          "state": {
            "_view_name": "LayoutView",
            "grid_template_rows": null,
            "right": null,
            "justify_content": null,
            "_view_module": "@jupyter-widgets/base",
            "overflow": null,
            "_model_module_version": "1.2.0",
            "_view_count": null,
            "flex_flow": null,
            "width": null,
            "min_width": null,
            "border": null,
            "align_items": null,
            "bottom": null,
            "_model_module": "@jupyter-widgets/base",
            "top": null,
            "grid_column": null,
            "overflow_y": null,
            "overflow_x": null,
            "grid_auto_flow": null,
            "grid_area": null,
            "grid_template_columns": null,
            "flex": null,
            "_model_name": "LayoutModel",
            "justify_items": null,
            "grid_row": null,
            "max_height": null,
            "align_content": null,
            "visibility": null,
            "align_self": null,
            "height": null,
            "min_height": null,
            "padding": null,
            "grid_auto_rows": null,
            "grid_gap": null,
            "max_width": null,
            "order": null,
            "_view_module_version": "1.2.0",
            "grid_template_areas": null,
            "object_position": null,
            "object_fit": null,
            "grid_auto_columns": null,
            "margin": null,
            "display": null,
            "left": null
          }
        },
        "6177a985be6c4bccb1fd17c85010e8e6": {
          "model_module": "@jupyter-widgets/controls",
          "model_name": "HTMLModel",
          "model_module_version": "1.5.0",
          "state": {
            "_view_name": "HTMLView",
            "style": "IPY_MODEL_e5347a7d087147888fd510e461623311",
            "_dom_classes": [],
            "description": "",
            "_model_name": "HTMLModel",
            "placeholder": "​",
            "_view_module": "@jupyter-widgets/controls",
            "_model_module_version": "1.5.0",
            "value": "",
            "_view_count": null,
            "_view_module_version": "1.5.0",
            "description_tooltip": null,
            "_model_module": "@jupyter-widgets/controls",
            "layout": "IPY_MODEL_24521a0e592b41779f3c1ab2264f6529"
          }
        },
        "1a0438f23071422080c68d9d4d37a613": {
          "model_module": "@jupyter-widgets/controls",
          "model_name": "FloatProgressModel",
          "model_module_version": "1.5.0",
          "state": {
            "_view_name": "ProgressView",
            "style": "IPY_MODEL_c93c1b16fbd147c4886ffc224ff1106e",
            "_dom_classes": [],
            "description": "",
            "_model_name": "FloatProgressModel",
            "bar_style": "success",
            "max": 9912422,
            "_view_module": "@jupyter-widgets/controls",
            "_model_module_version": "1.5.0",
            "value": 9912422,
            "_view_count": null,
            "_view_module_version": "1.5.0",
            "orientation": "horizontal",
            "min": 0,
            "description_tooltip": null,
            "_model_module": "@jupyter-widgets/controls",
            "layout": "IPY_MODEL_d2cdce07e74844a9abeb813fb9b18215"
          }
        },
        "85ce831d7f0c44f9a5151fa1858ff21a": {
          "model_module": "@jupyter-widgets/controls",
          "model_name": "HTMLModel",
          "model_module_version": "1.5.0",
          "state": {
            "_view_name": "HTMLView",
            "style": "IPY_MODEL_3cc41d6acacd46168b585bbb23a093bd",
            "_dom_classes": [],
            "description": "",
            "_model_name": "HTMLModel",
            "placeholder": "​",
            "_view_module": "@jupyter-widgets/controls",
            "_model_module_version": "1.5.0",
            "value": " 9913344/? [00:00&lt;00:00, 13301322.22it/s]",
            "_view_count": null,
            "_view_module_version": "1.5.0",
            "description_tooltip": null,
            "_model_module": "@jupyter-widgets/controls",
            "layout": "IPY_MODEL_076b2841ae3441c7a3ee9be08a41665c"
          }
        },
        "e5347a7d087147888fd510e461623311": {
          "model_module": "@jupyter-widgets/controls",
          "model_name": "DescriptionStyleModel",
          "model_module_version": "1.5.0",
          "state": {
            "_view_name": "StyleView",
            "_model_name": "DescriptionStyleModel",
            "description_width": "",
            "_view_module": "@jupyter-widgets/base",
            "_model_module_version": "1.5.0",
            "_view_count": null,
            "_view_module_version": "1.2.0",
            "_model_module": "@jupyter-widgets/controls"
          }
        },
        "24521a0e592b41779f3c1ab2264f6529": {
          "model_module": "@jupyter-widgets/base",
          "model_name": "LayoutModel",
          "model_module_version": "1.2.0",
          "state": {
            "_view_name": "LayoutView",
            "grid_template_rows": null,
            "right": null,
            "justify_content": null,
            "_view_module": "@jupyter-widgets/base",
            "overflow": null,
            "_model_module_version": "1.2.0",
            "_view_count": null,
            "flex_flow": null,
            "width": null,
            "min_width": null,
            "border": null,
            "align_items": null,
            "bottom": null,
            "_model_module": "@jupyter-widgets/base",
            "top": null,
            "grid_column": null,
            "overflow_y": null,
            "overflow_x": null,
            "grid_auto_flow": null,
            "grid_area": null,
            "grid_template_columns": null,
            "flex": null,
            "_model_name": "LayoutModel",
            "justify_items": null,
            "grid_row": null,
            "max_height": null,
            "align_content": null,
            "visibility": null,
            "align_self": null,
            "height": null,
            "min_height": null,
            "padding": null,
            "grid_auto_rows": null,
            "grid_gap": null,
            "max_width": null,
            "order": null,
            "_view_module_version": "1.2.0",
            "grid_template_areas": null,
            "object_position": null,
            "object_fit": null,
            "grid_auto_columns": null,
            "margin": null,
            "display": null,
            "left": null
          }
        },
        "c93c1b16fbd147c4886ffc224ff1106e": {
          "model_module": "@jupyter-widgets/controls",
          "model_name": "ProgressStyleModel",
          "model_module_version": "1.5.0",
          "state": {
            "_view_name": "StyleView",
            "_model_name": "ProgressStyleModel",
            "description_width": "",
            "_view_module": "@jupyter-widgets/base",
            "_model_module_version": "1.5.0",
            "_view_count": null,
            "_view_module_version": "1.2.0",
            "bar_color": null,
            "_model_module": "@jupyter-widgets/controls"
          }
        },
        "d2cdce07e74844a9abeb813fb9b18215": {
          "model_module": "@jupyter-widgets/base",
          "model_name": "LayoutModel",
          "model_module_version": "1.2.0",
          "state": {
            "_view_name": "LayoutView",
            "grid_template_rows": null,
            "right": null,
            "justify_content": null,
            "_view_module": "@jupyter-widgets/base",
            "overflow": null,
            "_model_module_version": "1.2.0",
            "_view_count": null,
            "flex_flow": null,
            "width": null,
            "min_width": null,
            "border": null,
            "align_items": null,
            "bottom": null,
            "_model_module": "@jupyter-widgets/base",
            "top": null,
            "grid_column": null,
            "overflow_y": null,
            "overflow_x": null,
            "grid_auto_flow": null,
            "grid_area": null,
            "grid_template_columns": null,
            "flex": null,
            "_model_name": "LayoutModel",
            "justify_items": null,
            "grid_row": null,
            "max_height": null,
            "align_content": null,
            "visibility": null,
            "align_self": null,
            "height": null,
            "min_height": null,
            "padding": null,
            "grid_auto_rows": null,
            "grid_gap": null,
            "max_width": null,
            "order": null,
            "_view_module_version": "1.2.0",
            "grid_template_areas": null,
            "object_position": null,
            "object_fit": null,
            "grid_auto_columns": null,
            "margin": null,
            "display": null,
            "left": null
          }
        },
        "3cc41d6acacd46168b585bbb23a093bd": {
          "model_module": "@jupyter-widgets/controls",
          "model_name": "DescriptionStyleModel",
          "model_module_version": "1.5.0",
          "state": {
            "_view_name": "StyleView",
            "_model_name": "DescriptionStyleModel",
            "description_width": "",
            "_view_module": "@jupyter-widgets/base",
            "_model_module_version": "1.5.0",
            "_view_count": null,
            "_view_module_version": "1.2.0",
            "_model_module": "@jupyter-widgets/controls"
          }
        },
        "076b2841ae3441c7a3ee9be08a41665c": {
          "model_module": "@jupyter-widgets/base",
          "model_name": "LayoutModel",
          "model_module_version": "1.2.0",
          "state": {
            "_view_name": "LayoutView",
            "grid_template_rows": null,
            "right": null,
            "justify_content": null,
            "_view_module": "@jupyter-widgets/base",
            "overflow": null,
            "_model_module_version": "1.2.0",
            "_view_count": null,
            "flex_flow": null,
            "width": null,
            "min_width": null,
            "border": null,
            "align_items": null,
            "bottom": null,
            "_model_module": "@jupyter-widgets/base",
            "top": null,
            "grid_column": null,
            "overflow_y": null,
            "overflow_x": null,
            "grid_auto_flow": null,
            "grid_area": null,
            "grid_template_columns": null,
            "flex": null,
            "_model_name": "LayoutModel",
            "justify_items": null,
            "grid_row": null,
            "max_height": null,
            "align_content": null,
            "visibility": null,
            "align_self": null,
            "height": null,
            "min_height": null,
            "padding": null,
            "grid_auto_rows": null,
            "grid_gap": null,
            "max_width": null,
            "order": null,
            "_view_module_version": "1.2.0",
            "grid_template_areas": null,
            "object_position": null,
            "object_fit": null,
            "grid_auto_columns": null,
            "margin": null,
            "display": null,
            "left": null
          }
        },
        "0f0d228b38a749f282da372a5cc70897": {
          "model_module": "@jupyter-widgets/controls",
          "model_name": "HBoxModel",
          "model_module_version": "1.5.0",
          "state": {
            "_view_name": "HBoxView",
            "_dom_classes": [],
            "_model_name": "HBoxModel",
            "_view_module": "@jupyter-widgets/controls",
            "_model_module_version": "1.5.0",
            "_view_count": null,
            "_view_module_version": "1.5.0",
            "box_style": "",
            "layout": "IPY_MODEL_03778c953d3c49eeb8f78f750ac1d204",
            "_model_module": "@jupyter-widgets/controls",
            "children": [
              "IPY_MODEL_47ce12736d10415d9d6516a990924381",
              "IPY_MODEL_4edcad38db1d4e279d7448f429970155",
              "IPY_MODEL_7cad8be706ff4fa4942d965925984512"
            ]
          }
        },
        "03778c953d3c49eeb8f78f750ac1d204": {
          "model_module": "@jupyter-widgets/base",
          "model_name": "LayoutModel",
          "model_module_version": "1.2.0",
          "state": {
            "_view_name": "LayoutView",
            "grid_template_rows": null,
            "right": null,
            "justify_content": null,
            "_view_module": "@jupyter-widgets/base",
            "overflow": null,
            "_model_module_version": "1.2.0",
            "_view_count": null,
            "flex_flow": null,
            "width": null,
            "min_width": null,
            "border": null,
            "align_items": null,
            "bottom": null,
            "_model_module": "@jupyter-widgets/base",
            "top": null,
            "grid_column": null,
            "overflow_y": null,
            "overflow_x": null,
            "grid_auto_flow": null,
            "grid_area": null,
            "grid_template_columns": null,
            "flex": null,
            "_model_name": "LayoutModel",
            "justify_items": null,
            "grid_row": null,
            "max_height": null,
            "align_content": null,
            "visibility": null,
            "align_self": null,
            "height": null,
            "min_height": null,
            "padding": null,
            "grid_auto_rows": null,
            "grid_gap": null,
            "max_width": null,
            "order": null,
            "_view_module_version": "1.2.0",
            "grid_template_areas": null,
            "object_position": null,
            "object_fit": null,
            "grid_auto_columns": null,
            "margin": null,
            "display": null,
            "left": null
          }
        },
        "47ce12736d10415d9d6516a990924381": {
          "model_module": "@jupyter-widgets/controls",
          "model_name": "HTMLModel",
          "model_module_version": "1.5.0",
          "state": {
            "_view_name": "HTMLView",
            "style": "IPY_MODEL_8b0b62d5aea34ac1aed7785b8f0ff1fc",
            "_dom_classes": [],
            "description": "",
            "_model_name": "HTMLModel",
            "placeholder": "​",
            "_view_module": "@jupyter-widgets/controls",
            "_model_module_version": "1.5.0",
            "value": "",
            "_view_count": null,
            "_view_module_version": "1.5.0",
            "description_tooltip": null,
            "_model_module": "@jupyter-widgets/controls",
            "layout": "IPY_MODEL_2609804311854a2ead4b551b06fff25d"
          }
        },
        "4edcad38db1d4e279d7448f429970155": {
          "model_module": "@jupyter-widgets/controls",
          "model_name": "FloatProgressModel",
          "model_module_version": "1.5.0",
          "state": {
            "_view_name": "ProgressView",
            "style": "IPY_MODEL_8fa8d42652d4465e8243b0d098f589a3",
            "_dom_classes": [],
            "description": "",
            "_model_name": "FloatProgressModel",
            "bar_style": "success",
            "max": 28881,
            "_view_module": "@jupyter-widgets/controls",
            "_model_module_version": "1.5.0",
            "value": 28881,
            "_view_count": null,
            "_view_module_version": "1.5.0",
            "orientation": "horizontal",
            "min": 0,
            "description_tooltip": null,
            "_model_module": "@jupyter-widgets/controls",
            "layout": "IPY_MODEL_90feab0427ca4d9580d2060749449291"
          }
        },
        "7cad8be706ff4fa4942d965925984512": {
          "model_module": "@jupyter-widgets/controls",
          "model_name": "HTMLModel",
          "model_module_version": "1.5.0",
          "state": {
            "_view_name": "HTMLView",
            "style": "IPY_MODEL_85f622ce7323496db6c0ebf1cef5e500",
            "_dom_classes": [],
            "description": "",
            "_model_name": "HTMLModel",
            "placeholder": "​",
            "_view_module": "@jupyter-widgets/controls",
            "_model_module_version": "1.5.0",
            "value": " 29696/? [00:00&lt;00:00, 794856.74it/s]",
            "_view_count": null,
            "_view_module_version": "1.5.0",
            "description_tooltip": null,
            "_model_module": "@jupyter-widgets/controls",
            "layout": "IPY_MODEL_c7e470fd50404ac4bfa833fd1e13be4b"
          }
        },
        "8b0b62d5aea34ac1aed7785b8f0ff1fc": {
          "model_module": "@jupyter-widgets/controls",
          "model_name": "DescriptionStyleModel",
          "model_module_version": "1.5.0",
          "state": {
            "_view_name": "StyleView",
            "_model_name": "DescriptionStyleModel",
            "description_width": "",
            "_view_module": "@jupyter-widgets/base",
            "_model_module_version": "1.5.0",
            "_view_count": null,
            "_view_module_version": "1.2.0",
            "_model_module": "@jupyter-widgets/controls"
          }
        },
        "2609804311854a2ead4b551b06fff25d": {
          "model_module": "@jupyter-widgets/base",
          "model_name": "LayoutModel",
          "model_module_version": "1.2.0",
          "state": {
            "_view_name": "LayoutView",
            "grid_template_rows": null,
            "right": null,
            "justify_content": null,
            "_view_module": "@jupyter-widgets/base",
            "overflow": null,
            "_model_module_version": "1.2.0",
            "_view_count": null,
            "flex_flow": null,
            "width": null,
            "min_width": null,
            "border": null,
            "align_items": null,
            "bottom": null,
            "_model_module": "@jupyter-widgets/base",
            "top": null,
            "grid_column": null,
            "overflow_y": null,
            "overflow_x": null,
            "grid_auto_flow": null,
            "grid_area": null,
            "grid_template_columns": null,
            "flex": null,
            "_model_name": "LayoutModel",
            "justify_items": null,
            "grid_row": null,
            "max_height": null,
            "align_content": null,
            "visibility": null,
            "align_self": null,
            "height": null,
            "min_height": null,
            "padding": null,
            "grid_auto_rows": null,
            "grid_gap": null,
            "max_width": null,
            "order": null,
            "_view_module_version": "1.2.0",
            "grid_template_areas": null,
            "object_position": null,
            "object_fit": null,
            "grid_auto_columns": null,
            "margin": null,
            "display": null,
            "left": null
          }
        },
        "8fa8d42652d4465e8243b0d098f589a3": {
          "model_module": "@jupyter-widgets/controls",
          "model_name": "ProgressStyleModel",
          "model_module_version": "1.5.0",
          "state": {
            "_view_name": "StyleView",
            "_model_name": "ProgressStyleModel",
            "description_width": "",
            "_view_module": "@jupyter-widgets/base",
            "_model_module_version": "1.5.0",
            "_view_count": null,
            "_view_module_version": "1.2.0",
            "bar_color": null,
            "_model_module": "@jupyter-widgets/controls"
          }
        },
        "90feab0427ca4d9580d2060749449291": {
          "model_module": "@jupyter-widgets/base",
          "model_name": "LayoutModel",
          "model_module_version": "1.2.0",
          "state": {
            "_view_name": "LayoutView",
            "grid_template_rows": null,
            "right": null,
            "justify_content": null,
            "_view_module": "@jupyter-widgets/base",
            "overflow": null,
            "_model_module_version": "1.2.0",
            "_view_count": null,
            "flex_flow": null,
            "width": null,
            "min_width": null,
            "border": null,
            "align_items": null,
            "bottom": null,
            "_model_module": "@jupyter-widgets/base",
            "top": null,
            "grid_column": null,
            "overflow_y": null,
            "overflow_x": null,
            "grid_auto_flow": null,
            "grid_area": null,
            "grid_template_columns": null,
            "flex": null,
            "_model_name": "LayoutModel",
            "justify_items": null,
            "grid_row": null,
            "max_height": null,
            "align_content": null,
            "visibility": null,
            "align_self": null,
            "height": null,
            "min_height": null,
            "padding": null,
            "grid_auto_rows": null,
            "grid_gap": null,
            "max_width": null,
            "order": null,
            "_view_module_version": "1.2.0",
            "grid_template_areas": null,
            "object_position": null,
            "object_fit": null,
            "grid_auto_columns": null,
            "margin": null,
            "display": null,
            "left": null
          }
        },
        "85f622ce7323496db6c0ebf1cef5e500": {
          "model_module": "@jupyter-widgets/controls",
          "model_name": "DescriptionStyleModel",
          "model_module_version": "1.5.0",
          "state": {
            "_view_name": "StyleView",
            "_model_name": "DescriptionStyleModel",
            "description_width": "",
            "_view_module": "@jupyter-widgets/base",
            "_model_module_version": "1.5.0",
            "_view_count": null,
            "_view_module_version": "1.2.0",
            "_model_module": "@jupyter-widgets/controls"
          }
        },
        "c7e470fd50404ac4bfa833fd1e13be4b": {
          "model_module": "@jupyter-widgets/base",
          "model_name": "LayoutModel",
          "model_module_version": "1.2.0",
          "state": {
            "_view_name": "LayoutView",
            "grid_template_rows": null,
            "right": null,
            "justify_content": null,
            "_view_module": "@jupyter-widgets/base",
            "overflow": null,
            "_model_module_version": "1.2.0",
            "_view_count": null,
            "flex_flow": null,
            "width": null,
            "min_width": null,
            "border": null,
            "align_items": null,
            "bottom": null,
            "_model_module": "@jupyter-widgets/base",
            "top": null,
            "grid_column": null,
            "overflow_y": null,
            "overflow_x": null,
            "grid_auto_flow": null,
            "grid_area": null,
            "grid_template_columns": null,
            "flex": null,
            "_model_name": "LayoutModel",
            "justify_items": null,
            "grid_row": null,
            "max_height": null,
            "align_content": null,
            "visibility": null,
            "align_self": null,
            "height": null,
            "min_height": null,
            "padding": null,
            "grid_auto_rows": null,
            "grid_gap": null,
            "max_width": null,
            "order": null,
            "_view_module_version": "1.2.0",
            "grid_template_areas": null,
            "object_position": null,
            "object_fit": null,
            "grid_auto_columns": null,
            "margin": null,
            "display": null,
            "left": null
          }
        },
        "ae63a7ec968f4141a601c17c6133df9f": {
          "model_module": "@jupyter-widgets/controls",
          "model_name": "HBoxModel",
          "model_module_version": "1.5.0",
          "state": {
            "_view_name": "HBoxView",
            "_dom_classes": [],
            "_model_name": "HBoxModel",
            "_view_module": "@jupyter-widgets/controls",
            "_model_module_version": "1.5.0",
            "_view_count": null,
            "_view_module_version": "1.5.0",
            "box_style": "",
            "layout": "IPY_MODEL_497a6a51a545400ab53103d84819e7ec",
            "_model_module": "@jupyter-widgets/controls",
            "children": [
              "IPY_MODEL_74b43fb147634156a33cd061207d1688",
              "IPY_MODEL_7fd24c3ee45f43dc81f04afb2e14bd09",
              "IPY_MODEL_993ae68c7af946fdaba5a5e6e728832e"
            ]
          }
        },
        "497a6a51a545400ab53103d84819e7ec": {
          "model_module": "@jupyter-widgets/base",
          "model_name": "LayoutModel",
          "model_module_version": "1.2.0",
          "state": {
            "_view_name": "LayoutView",
            "grid_template_rows": null,
            "right": null,
            "justify_content": null,
            "_view_module": "@jupyter-widgets/base",
            "overflow": null,
            "_model_module_version": "1.2.0",
            "_view_count": null,
            "flex_flow": null,
            "width": null,
            "min_width": null,
            "border": null,
            "align_items": null,
            "bottom": null,
            "_model_module": "@jupyter-widgets/base",
            "top": null,
            "grid_column": null,
            "overflow_y": null,
            "overflow_x": null,
            "grid_auto_flow": null,
            "grid_area": null,
            "grid_template_columns": null,
            "flex": null,
            "_model_name": "LayoutModel",
            "justify_items": null,
            "grid_row": null,
            "max_height": null,
            "align_content": null,
            "visibility": null,
            "align_self": null,
            "height": null,
            "min_height": null,
            "padding": null,
            "grid_auto_rows": null,
            "grid_gap": null,
            "max_width": null,
            "order": null,
            "_view_module_version": "1.2.0",
            "grid_template_areas": null,
            "object_position": null,
            "object_fit": null,
            "grid_auto_columns": null,
            "margin": null,
            "display": null,
            "left": null
          }
        },
        "74b43fb147634156a33cd061207d1688": {
          "model_module": "@jupyter-widgets/controls",
          "model_name": "HTMLModel",
          "model_module_version": "1.5.0",
          "state": {
            "_view_name": "HTMLView",
            "style": "IPY_MODEL_39037e513e0549cf92e9e04e35a8584e",
            "_dom_classes": [],
            "description": "",
            "_model_name": "HTMLModel",
            "placeholder": "​",
            "_view_module": "@jupyter-widgets/controls",
            "_model_module_version": "1.5.0",
            "value": "",
            "_view_count": null,
            "_view_module_version": "1.5.0",
            "description_tooltip": null,
            "_model_module": "@jupyter-widgets/controls",
            "layout": "IPY_MODEL_6e2820e4fb774d669b6e329cedb6eb0f"
          }
        },
        "7fd24c3ee45f43dc81f04afb2e14bd09": {
          "model_module": "@jupyter-widgets/controls",
          "model_name": "FloatProgressModel",
          "model_module_version": "1.5.0",
          "state": {
            "_view_name": "ProgressView",
            "style": "IPY_MODEL_2f5072232dc94dbb9df110f0db46fdd7",
            "_dom_classes": [],
            "description": "",
            "_model_name": "FloatProgressModel",
            "bar_style": "success",
            "max": 1648877,
            "_view_module": "@jupyter-widgets/controls",
            "_model_module_version": "1.5.0",
            "value": 1648877,
            "_view_count": null,
            "_view_module_version": "1.5.0",
            "orientation": "horizontal",
            "min": 0,
            "description_tooltip": null,
            "_model_module": "@jupyter-widgets/controls",
            "layout": "IPY_MODEL_65fcad3c4d13479092d191e83b32eac0"
          }
        },
        "993ae68c7af946fdaba5a5e6e728832e": {
          "model_module": "@jupyter-widgets/controls",
          "model_name": "HTMLModel",
          "model_module_version": "1.5.0",
          "state": {
            "_view_name": "HTMLView",
            "style": "IPY_MODEL_aa88eac1e9264f77a225fd3a1f7b23d7",
            "_dom_classes": [],
            "description": "",
            "_model_name": "HTMLModel",
            "placeholder": "​",
            "_view_module": "@jupyter-widgets/controls",
            "_model_module_version": "1.5.0",
            "value": " 1649664/? [00:00&lt;00:00, 7276207.67it/s]",
            "_view_count": null,
            "_view_module_version": "1.5.0",
            "description_tooltip": null,
            "_model_module": "@jupyter-widgets/controls",
            "layout": "IPY_MODEL_0220d984fb1b4b8185d91d635a25cfd6"
          }
        },
        "39037e513e0549cf92e9e04e35a8584e": {
          "model_module": "@jupyter-widgets/controls",
          "model_name": "DescriptionStyleModel",
          "model_module_version": "1.5.0",
          "state": {
            "_view_name": "StyleView",
            "_model_name": "DescriptionStyleModel",
            "description_width": "",
            "_view_module": "@jupyter-widgets/base",
            "_model_module_version": "1.5.0",
            "_view_count": null,
            "_view_module_version": "1.2.0",
            "_model_module": "@jupyter-widgets/controls"
          }
        },
        "6e2820e4fb774d669b6e329cedb6eb0f": {
          "model_module": "@jupyter-widgets/base",
          "model_name": "LayoutModel",
          "model_module_version": "1.2.0",
          "state": {
            "_view_name": "LayoutView",
            "grid_template_rows": null,
            "right": null,
            "justify_content": null,
            "_view_module": "@jupyter-widgets/base",
            "overflow": null,
            "_model_module_version": "1.2.0",
            "_view_count": null,
            "flex_flow": null,
            "width": null,
            "min_width": null,
            "border": null,
            "align_items": null,
            "bottom": null,
            "_model_module": "@jupyter-widgets/base",
            "top": null,
            "grid_column": null,
            "overflow_y": null,
            "overflow_x": null,
            "grid_auto_flow": null,
            "grid_area": null,
            "grid_template_columns": null,
            "flex": null,
            "_model_name": "LayoutModel",
            "justify_items": null,
            "grid_row": null,
            "max_height": null,
            "align_content": null,
            "visibility": null,
            "align_self": null,
            "height": null,
            "min_height": null,
            "padding": null,
            "grid_auto_rows": null,
            "grid_gap": null,
            "max_width": null,
            "order": null,
            "_view_module_version": "1.2.0",
            "grid_template_areas": null,
            "object_position": null,
            "object_fit": null,
            "grid_auto_columns": null,
            "margin": null,
            "display": null,
            "left": null
          }
        },
        "2f5072232dc94dbb9df110f0db46fdd7": {
          "model_module": "@jupyter-widgets/controls",
          "model_name": "ProgressStyleModel",
          "model_module_version": "1.5.0",
          "state": {
            "_view_name": "StyleView",
            "_model_name": "ProgressStyleModel",
            "description_width": "",
            "_view_module": "@jupyter-widgets/base",
            "_model_module_version": "1.5.0",
            "_view_count": null,
            "_view_module_version": "1.2.0",
            "bar_color": null,
            "_model_module": "@jupyter-widgets/controls"
          }
        },
        "65fcad3c4d13479092d191e83b32eac0": {
          "model_module": "@jupyter-widgets/base",
          "model_name": "LayoutModel",
          "model_module_version": "1.2.0",
          "state": {
            "_view_name": "LayoutView",
            "grid_template_rows": null,
            "right": null,
            "justify_content": null,
            "_view_module": "@jupyter-widgets/base",
            "overflow": null,
            "_model_module_version": "1.2.0",
            "_view_count": null,
            "flex_flow": null,
            "width": null,
            "min_width": null,
            "border": null,
            "align_items": null,
            "bottom": null,
            "_model_module": "@jupyter-widgets/base",
            "top": null,
            "grid_column": null,
            "overflow_y": null,
            "overflow_x": null,
            "grid_auto_flow": null,
            "grid_area": null,
            "grid_template_columns": null,
            "flex": null,
            "_model_name": "LayoutModel",
            "justify_items": null,
            "grid_row": null,
            "max_height": null,
            "align_content": null,
            "visibility": null,
            "align_self": null,
            "height": null,
            "min_height": null,
            "padding": null,
            "grid_auto_rows": null,
            "grid_gap": null,
            "max_width": null,
            "order": null,
            "_view_module_version": "1.2.0",
            "grid_template_areas": null,
            "object_position": null,
            "object_fit": null,
            "grid_auto_columns": null,
            "margin": null,
            "display": null,
            "left": null
          }
        },
        "aa88eac1e9264f77a225fd3a1f7b23d7": {
          "model_module": "@jupyter-widgets/controls",
          "model_name": "DescriptionStyleModel",
          "model_module_version": "1.5.0",
          "state": {
            "_view_name": "StyleView",
            "_model_name": "DescriptionStyleModel",
            "description_width": "",
            "_view_module": "@jupyter-widgets/base",
            "_model_module_version": "1.5.0",
            "_view_count": null,
            "_view_module_version": "1.2.0",
            "_model_module": "@jupyter-widgets/controls"
          }
        },
        "0220d984fb1b4b8185d91d635a25cfd6": {
          "model_module": "@jupyter-widgets/base",
          "model_name": "LayoutModel",
          "model_module_version": "1.2.0",
          "state": {
            "_view_name": "LayoutView",
            "grid_template_rows": null,
            "right": null,
            "justify_content": null,
            "_view_module": "@jupyter-widgets/base",
            "overflow": null,
            "_model_module_version": "1.2.0",
            "_view_count": null,
            "flex_flow": null,
            "width": null,
            "min_width": null,
            "border": null,
            "align_items": null,
            "bottom": null,
            "_model_module": "@jupyter-widgets/base",
            "top": null,
            "grid_column": null,
            "overflow_y": null,
            "overflow_x": null,
            "grid_auto_flow": null,
            "grid_area": null,
            "grid_template_columns": null,
            "flex": null,
            "_model_name": "LayoutModel",
            "justify_items": null,
            "grid_row": null,
            "max_height": null,
            "align_content": null,
            "visibility": null,
            "align_self": null,
            "height": null,
            "min_height": null,
            "padding": null,
            "grid_auto_rows": null,
            "grid_gap": null,
            "max_width": null,
            "order": null,
            "_view_module_version": "1.2.0",
            "grid_template_areas": null,
            "object_position": null,
            "object_fit": null,
            "grid_auto_columns": null,
            "margin": null,
            "display": null,
            "left": null
          }
        },
        "dcc67f1f91b34f0dacba9416ca725e01": {
          "model_module": "@jupyter-widgets/controls",
          "model_name": "HBoxModel",
          "model_module_version": "1.5.0",
          "state": {
            "_view_name": "HBoxView",
            "_dom_classes": [],
            "_model_name": "HBoxModel",
            "_view_module": "@jupyter-widgets/controls",
            "_model_module_version": "1.5.0",
            "_view_count": null,
            "_view_module_version": "1.5.0",
            "box_style": "",
            "layout": "IPY_MODEL_157d8b8b046b4317b4a44b4097e64048",
            "_model_module": "@jupyter-widgets/controls",
            "children": [
              "IPY_MODEL_10b5929aff6c4971b4f591d968af7b8a",
              "IPY_MODEL_d1a9ed7f86524a56af3c39ca6836f6d2",
              "IPY_MODEL_dcdc3608b6eb40e4a2fb42376b029442"
            ]
          }
        },
        "157d8b8b046b4317b4a44b4097e64048": {
          "model_module": "@jupyter-widgets/base",
          "model_name": "LayoutModel",
          "model_module_version": "1.2.0",
          "state": {
            "_view_name": "LayoutView",
            "grid_template_rows": null,
            "right": null,
            "justify_content": null,
            "_view_module": "@jupyter-widgets/base",
            "overflow": null,
            "_model_module_version": "1.2.0",
            "_view_count": null,
            "flex_flow": null,
            "width": null,
            "min_width": null,
            "border": null,
            "align_items": null,
            "bottom": null,
            "_model_module": "@jupyter-widgets/base",
            "top": null,
            "grid_column": null,
            "overflow_y": null,
            "overflow_x": null,
            "grid_auto_flow": null,
            "grid_area": null,
            "grid_template_columns": null,
            "flex": null,
            "_model_name": "LayoutModel",
            "justify_items": null,
            "grid_row": null,
            "max_height": null,
            "align_content": null,
            "visibility": null,
            "align_self": null,
            "height": null,
            "min_height": null,
            "padding": null,
            "grid_auto_rows": null,
            "grid_gap": null,
            "max_width": null,
            "order": null,
            "_view_module_version": "1.2.0",
            "grid_template_areas": null,
            "object_position": null,
            "object_fit": null,
            "grid_auto_columns": null,
            "margin": null,
            "display": null,
            "left": null
          }
        },
        "10b5929aff6c4971b4f591d968af7b8a": {
          "model_module": "@jupyter-widgets/controls",
          "model_name": "HTMLModel",
          "model_module_version": "1.5.0",
          "state": {
            "_view_name": "HTMLView",
            "style": "IPY_MODEL_41af088775c6471d99bc2a4ffe29cce4",
            "_dom_classes": [],
            "description": "",
            "_model_name": "HTMLModel",
            "placeholder": "​",
            "_view_module": "@jupyter-widgets/controls",
            "_model_module_version": "1.5.0",
            "value": "",
            "_view_count": null,
            "_view_module_version": "1.5.0",
            "description_tooltip": null,
            "_model_module": "@jupyter-widgets/controls",
            "layout": "IPY_MODEL_b5e8ff8950b44447b81afcd61e830f93"
          }
        },
        "d1a9ed7f86524a56af3c39ca6836f6d2": {
          "model_module": "@jupyter-widgets/controls",
          "model_name": "FloatProgressModel",
          "model_module_version": "1.5.0",
          "state": {
            "_view_name": "ProgressView",
            "style": "IPY_MODEL_94f46afe19bc40fd97400f871906ced5",
            "_dom_classes": [],
            "description": "",
            "_model_name": "FloatProgressModel",
            "bar_style": "success",
            "max": 4542,
            "_view_module": "@jupyter-widgets/controls",
            "_model_module_version": "1.5.0",
            "value": 4542,
            "_view_count": null,
            "_view_module_version": "1.5.0",
            "orientation": "horizontal",
            "min": 0,
            "description_tooltip": null,
            "_model_module": "@jupyter-widgets/controls",
            "layout": "IPY_MODEL_34b738e0072440f28a9eba550f59b32d"
          }
        },
        "dcdc3608b6eb40e4a2fb42376b029442": {
          "model_module": "@jupyter-widgets/controls",
          "model_name": "HTMLModel",
          "model_module_version": "1.5.0",
          "state": {
            "_view_name": "HTMLView",
            "style": "IPY_MODEL_bc2c3b0c9bc74a2b84d3bc3587533452",
            "_dom_classes": [],
            "description": "",
            "_model_name": "HTMLModel",
            "placeholder": "​",
            "_view_module": "@jupyter-widgets/controls",
            "_model_module_version": "1.5.0",
            "value": " 5120/? [00:00&lt;00:00, 141397.17it/s]",
            "_view_count": null,
            "_view_module_version": "1.5.0",
            "description_tooltip": null,
            "_model_module": "@jupyter-widgets/controls",
            "layout": "IPY_MODEL_cfb6ea15c8fd476d86576e808eb8a80f"
          }
        },
        "41af088775c6471d99bc2a4ffe29cce4": {
          "model_module": "@jupyter-widgets/controls",
          "model_name": "DescriptionStyleModel",
          "model_module_version": "1.5.0",
          "state": {
            "_view_name": "StyleView",
            "_model_name": "DescriptionStyleModel",
            "description_width": "",
            "_view_module": "@jupyter-widgets/base",
            "_model_module_version": "1.5.0",
            "_view_count": null,
            "_view_module_version": "1.2.0",
            "_model_module": "@jupyter-widgets/controls"
          }
        },
        "b5e8ff8950b44447b81afcd61e830f93": {
          "model_module": "@jupyter-widgets/base",
          "model_name": "LayoutModel",
          "model_module_version": "1.2.0",
          "state": {
            "_view_name": "LayoutView",
            "grid_template_rows": null,
            "right": null,
            "justify_content": null,
            "_view_module": "@jupyter-widgets/base",
            "overflow": null,
            "_model_module_version": "1.2.0",
            "_view_count": null,
            "flex_flow": null,
            "width": null,
            "min_width": null,
            "border": null,
            "align_items": null,
            "bottom": null,
            "_model_module": "@jupyter-widgets/base",
            "top": null,
            "grid_column": null,
            "overflow_y": null,
            "overflow_x": null,
            "grid_auto_flow": null,
            "grid_area": null,
            "grid_template_columns": null,
            "flex": null,
            "_model_name": "LayoutModel",
            "justify_items": null,
            "grid_row": null,
            "max_height": null,
            "align_content": null,
            "visibility": null,
            "align_self": null,
            "height": null,
            "min_height": null,
            "padding": null,
            "grid_auto_rows": null,
            "grid_gap": null,
            "max_width": null,
            "order": null,
            "_view_module_version": "1.2.0",
            "grid_template_areas": null,
            "object_position": null,
            "object_fit": null,
            "grid_auto_columns": null,
            "margin": null,
            "display": null,
            "left": null
          }
        },
        "94f46afe19bc40fd97400f871906ced5": {
          "model_module": "@jupyter-widgets/controls",
          "model_name": "ProgressStyleModel",
          "model_module_version": "1.5.0",
          "state": {
            "_view_name": "StyleView",
            "_model_name": "ProgressStyleModel",
            "description_width": "",
            "_view_module": "@jupyter-widgets/base",
            "_model_module_version": "1.5.0",
            "_view_count": null,
            "_view_module_version": "1.2.0",
            "bar_color": null,
            "_model_module": "@jupyter-widgets/controls"
          }
        },
        "34b738e0072440f28a9eba550f59b32d": {
          "model_module": "@jupyter-widgets/base",
          "model_name": "LayoutModel",
          "model_module_version": "1.2.0",
          "state": {
            "_view_name": "LayoutView",
            "grid_template_rows": null,
            "right": null,
            "justify_content": null,
            "_view_module": "@jupyter-widgets/base",
            "overflow": null,
            "_model_module_version": "1.2.0",
            "_view_count": null,
            "flex_flow": null,
            "width": null,
            "min_width": null,
            "border": null,
            "align_items": null,
            "bottom": null,
            "_model_module": "@jupyter-widgets/base",
            "top": null,
            "grid_column": null,
            "overflow_y": null,
            "overflow_x": null,
            "grid_auto_flow": null,
            "grid_area": null,
            "grid_template_columns": null,
            "flex": null,
            "_model_name": "LayoutModel",
            "justify_items": null,
            "grid_row": null,
            "max_height": null,
            "align_content": null,
            "visibility": null,
            "align_self": null,
            "height": null,
            "min_height": null,
            "padding": null,
            "grid_auto_rows": null,
            "grid_gap": null,
            "max_width": null,
            "order": null,
            "_view_module_version": "1.2.0",
            "grid_template_areas": null,
            "object_position": null,
            "object_fit": null,
            "grid_auto_columns": null,
            "margin": null,
            "display": null,
            "left": null
          }
        },
        "bc2c3b0c9bc74a2b84d3bc3587533452": {
          "model_module": "@jupyter-widgets/controls",
          "model_name": "DescriptionStyleModel",
          "model_module_version": "1.5.0",
          "state": {
            "_view_name": "StyleView",
            "_model_name": "DescriptionStyleModel",
            "description_width": "",
            "_view_module": "@jupyter-widgets/base",
            "_model_module_version": "1.5.0",
            "_view_count": null,
            "_view_module_version": "1.2.0",
            "_model_module": "@jupyter-widgets/controls"
          }
        },
        "cfb6ea15c8fd476d86576e808eb8a80f": {
          "model_module": "@jupyter-widgets/base",
          "model_name": "LayoutModel",
          "model_module_version": "1.2.0",
          "state": {
            "_view_name": "LayoutView",
            "grid_template_rows": null,
            "right": null,
            "justify_content": null,
            "_view_module": "@jupyter-widgets/base",
            "overflow": null,
            "_model_module_version": "1.2.0",
            "_view_count": null,
            "flex_flow": null,
            "width": null,
            "min_width": null,
            "border": null,
            "align_items": null,
            "bottom": null,
            "_model_module": "@jupyter-widgets/base",
            "top": null,
            "grid_column": null,
            "overflow_y": null,
            "overflow_x": null,
            "grid_auto_flow": null,
            "grid_area": null,
            "grid_template_columns": null,
            "flex": null,
            "_model_name": "LayoutModel",
            "justify_items": null,
            "grid_row": null,
            "max_height": null,
            "align_content": null,
            "visibility": null,
            "align_self": null,
            "height": null,
            "min_height": null,
            "padding": null,
            "grid_auto_rows": null,
            "grid_gap": null,
            "max_width": null,
            "order": null,
            "_view_module_version": "1.2.0",
            "grid_template_areas": null,
            "object_position": null,
            "object_fit": null,
            "grid_auto_columns": null,
            "margin": null,
            "display": null,
            "left": null
          }
        }
      }
    }
  },
  "cells": [
    {
      "cell_type": "markdown",
      "metadata": {
        "id": "view-in-github",
        "colab_type": "text"
      },
      "source": [
        "<a href=\"https://colab.research.google.com/github/cshah1995/Deep-Learning-MNIST-data/blob/main/MNIST_Image_classification_Simple_Logistic_Regression_model.ipynb\" target=\"_parent\"><img src=\"https://colab.research.google.com/assets/colab-badge.svg\" alt=\"Open In Colab\"/></a>"
      ]
    },
    {
      "cell_type": "markdown",
      "metadata": {
        "id": "i4ztipf2PgpP"
      },
      "source": [
        "#Loading the Libraries"
      ]
    },
    {
      "cell_type": "code",
      "metadata": {
        "id": "OO4fRHkiUyI3"
      },
      "source": [
        "import torch as t, torchvision as tv\n",
        "import torchvision.transforms as transforms\n",
        "from torchvision.datasets import MNIST\n",
        "import matplotlib.pyplot as plt\n",
        "from torchvision.transforms import ToTensor, transforms\n",
        "%matplotlib inline"
      ],
      "execution_count": 68,
      "outputs": []
    },
    {
      "cell_type": "markdown",
      "metadata": {
        "id": "ickeM0o5PlIf"
      },
      "source": [
        "#Loading the MNIST Dataset"
      ]
    },
    {
      "cell_type": "code",
      "metadata": {
        "id": "OGJz2bv9U_2V",
        "colab": {
          "base_uri": "https://localhost:8080/",
          "height": 437,
          "referenced_widgets": [
            "8ed7bc6c521b40b49afdb4ffd3b51a1f",
            "5dcbe7a3bf04412ba806df4374c77c72",
            "6177a985be6c4bccb1fd17c85010e8e6",
            "1a0438f23071422080c68d9d4d37a613",
            "85ce831d7f0c44f9a5151fa1858ff21a",
            "e5347a7d087147888fd510e461623311",
            "24521a0e592b41779f3c1ab2264f6529",
            "c93c1b16fbd147c4886ffc224ff1106e",
            "d2cdce07e74844a9abeb813fb9b18215",
            "3cc41d6acacd46168b585bbb23a093bd",
            "076b2841ae3441c7a3ee9be08a41665c",
            "0f0d228b38a749f282da372a5cc70897",
            "03778c953d3c49eeb8f78f750ac1d204",
            "47ce12736d10415d9d6516a990924381",
            "4edcad38db1d4e279d7448f429970155",
            "7cad8be706ff4fa4942d965925984512",
            "8b0b62d5aea34ac1aed7785b8f0ff1fc",
            "2609804311854a2ead4b551b06fff25d",
            "8fa8d42652d4465e8243b0d098f589a3",
            "90feab0427ca4d9580d2060749449291",
            "85f622ce7323496db6c0ebf1cef5e500",
            "c7e470fd50404ac4bfa833fd1e13be4b",
            "ae63a7ec968f4141a601c17c6133df9f",
            "497a6a51a545400ab53103d84819e7ec",
            "74b43fb147634156a33cd061207d1688",
            "7fd24c3ee45f43dc81f04afb2e14bd09",
            "993ae68c7af946fdaba5a5e6e728832e",
            "39037e513e0549cf92e9e04e35a8584e",
            "6e2820e4fb774d669b6e329cedb6eb0f",
            "2f5072232dc94dbb9df110f0db46fdd7",
            "65fcad3c4d13479092d191e83b32eac0",
            "aa88eac1e9264f77a225fd3a1f7b23d7",
            "0220d984fb1b4b8185d91d635a25cfd6",
            "dcc67f1f91b34f0dacba9416ca725e01",
            "157d8b8b046b4317b4a44b4097e64048",
            "10b5929aff6c4971b4f591d968af7b8a",
            "d1a9ed7f86524a56af3c39ca6836f6d2",
            "dcdc3608b6eb40e4a2fb42376b029442",
            "41af088775c6471d99bc2a4ffe29cce4",
            "b5e8ff8950b44447b81afcd61e830f93",
            "94f46afe19bc40fd97400f871906ced5",
            "34b738e0072440f28a9eba550f59b32d",
            "bc2c3b0c9bc74a2b84d3bc3587533452",
            "cfb6ea15c8fd476d86576e808eb8a80f"
          ]
        },
        "outputId": "8bf755f0-a83d-4fab-a140-032868e9cc72"
      },
      "source": [
        "dtr = MNIST( root = 'data/', download=True)"
      ],
      "execution_count": 2,
      "outputs": [
        {
          "output_type": "stream",
          "name": "stdout",
          "text": [
            "Downloading http://yann.lecun.com/exdb/mnist/train-images-idx3-ubyte.gz\n",
            "Downloading http://yann.lecun.com/exdb/mnist/train-images-idx3-ubyte.gz to data/MNIST/raw/train-images-idx3-ubyte.gz\n"
          ]
        },
        {
          "output_type": "display_data",
          "data": {
            "application/vnd.jupyter.widget-view+json": {
              "model_id": "8ed7bc6c521b40b49afdb4ffd3b51a1f",
              "version_minor": 0,
              "version_major": 2
            },
            "text/plain": [
              "  0%|          | 0/9912422 [00:00<?, ?it/s]"
            ]
          },
          "metadata": {}
        },
        {
          "output_type": "stream",
          "name": "stdout",
          "text": [
            "Extracting data/MNIST/raw/train-images-idx3-ubyte.gz to data/MNIST/raw\n",
            "\n",
            "Downloading http://yann.lecun.com/exdb/mnist/train-labels-idx1-ubyte.gz\n",
            "Downloading http://yann.lecun.com/exdb/mnist/train-labels-idx1-ubyte.gz to data/MNIST/raw/train-labels-idx1-ubyte.gz\n"
          ]
        },
        {
          "output_type": "display_data",
          "data": {
            "application/vnd.jupyter.widget-view+json": {
              "model_id": "0f0d228b38a749f282da372a5cc70897",
              "version_minor": 0,
              "version_major": 2
            },
            "text/plain": [
              "  0%|          | 0/28881 [00:00<?, ?it/s]"
            ]
          },
          "metadata": {}
        },
        {
          "output_type": "stream",
          "name": "stdout",
          "text": [
            "Extracting data/MNIST/raw/train-labels-idx1-ubyte.gz to data/MNIST/raw\n",
            "\n",
            "Downloading http://yann.lecun.com/exdb/mnist/t10k-images-idx3-ubyte.gz\n",
            "Downloading http://yann.lecun.com/exdb/mnist/t10k-images-idx3-ubyte.gz to data/MNIST/raw/t10k-images-idx3-ubyte.gz\n"
          ]
        },
        {
          "output_type": "display_data",
          "data": {
            "application/vnd.jupyter.widget-view+json": {
              "model_id": "ae63a7ec968f4141a601c17c6133df9f",
              "version_minor": 0,
              "version_major": 2
            },
            "text/plain": [
              "  0%|          | 0/1648877 [00:00<?, ?it/s]"
            ]
          },
          "metadata": {}
        },
        {
          "output_type": "stream",
          "name": "stdout",
          "text": [
            "Extracting data/MNIST/raw/t10k-images-idx3-ubyte.gz to data/MNIST/raw\n",
            "\n",
            "Downloading http://yann.lecun.com/exdb/mnist/t10k-labels-idx1-ubyte.gz\n",
            "Downloading http://yann.lecun.com/exdb/mnist/t10k-labels-idx1-ubyte.gz to data/MNIST/raw/t10k-labels-idx1-ubyte.gz\n"
          ]
        },
        {
          "output_type": "display_data",
          "data": {
            "application/vnd.jupyter.widget-view+json": {
              "model_id": "dcc67f1f91b34f0dacba9416ca725e01",
              "version_minor": 0,
              "version_major": 2
            },
            "text/plain": [
              "  0%|          | 0/4542 [00:00<?, ?it/s]"
            ]
          },
          "metadata": {}
        },
        {
          "output_type": "stream",
          "name": "stdout",
          "text": [
            "Extracting data/MNIST/raw/t10k-labels-idx1-ubyte.gz to data/MNIST/raw\n",
            "\n"
          ]
        }
      ]
    },
    {
      "cell_type": "code",
      "metadata": {
        "id": "sl42KXmkPbtK"
      },
      "source": [
        "dtst = MNIST(root = 'data/', train=False)"
      ],
      "execution_count": 3,
      "outputs": []
    },
    {
      "cell_type": "code",
      "metadata": {
        "colab": {
          "base_uri": "https://localhost:8080/"
        },
        "id": "2cGzrZp7QYdj",
        "outputId": "17e63965-8a5f-4e68-eb4e-c8bf63fbb3f8"
      },
      "source": [
        "len(dtr) , len(dtst)"
      ],
      "execution_count": 64,
      "outputs": [
        {
          "output_type": "execute_result",
          "data": {
            "text/plain": [
              "(50000, 10000)"
            ]
          },
          "metadata": {},
          "execution_count": 64
        }
      ]
    },
    {
      "cell_type": "code",
      "metadata": {
        "id": "qwpkHaRGQt3R"
      },
      "source": [
        "dtr[0]"
      ],
      "execution_count": null,
      "outputs": []
    },
    {
      "cell_type": "code",
      "metadata": {
        "colab": {
          "base_uri": "https://localhost:8080/",
          "height": 284
        },
        "id": "mYARr_hvRFeT",
        "outputId": "b959ce40-d8b1-48cf-a5fd-12ca54e50757"
      },
      "source": [
        "im, lbl = dtr[0]\n",
        "plt.imshow(im[0], cmap = 'gray')\n",
        "print('label:', lbl)"
      ],
      "execution_count": 70,
      "outputs": [
        {
          "output_type": "stream",
          "name": "stdout",
          "text": [
            "label: 2\n"
          ]
        },
        {
          "output_type": "display_data",
          "data": {
            "image/png": "[encoded data removed]",
            "text/plain": [
              "<Figure size 432x288 with 1 Axes>"
            ]
          },
          "metadata": {
            "needs_background": "light"
          }
        }
      ]
    },
    {
      "cell_type": "code",
      "metadata": {
        "id": "UWOmATRgRwVA"
      },
      "source": [
        "dtr = MNIST( root = 'data/',\n",
        "            train=True,\n",
        "            transform= transforms.ToTensor())"
      ],
      "execution_count": 7,
      "outputs": []
    },
    {
      "cell_type": "code",
      "metadata": {
        "colab": {
          "base_uri": "https://localhost:8080/"
        },
        "id": "cht7VlpgVghF",
        "outputId": "b40f3fb8-de2f-4dde-b9e1-c74534d2a585"
      },
      "source": [
        "im_tensor, lbl = dtr[0]\n",
        "print(im_tensor.shape, lbl)"
      ],
      "execution_count": 8,
      "outputs": [
        {
          "output_type": "stream",
          "name": "stdout",
          "text": [
            "torch.Size([1, 28, 28]) 5\n"
          ]
        }
      ]
    },
    {
      "cell_type": "code",
      "metadata": {
        "colab": {
          "base_uri": "https://localhost:8080/"
        },
        "id": "99RHD7PMXGw-",
        "outputId": "135a943c-84fc-4779-f811-7319788ba4df"
      },
      "source": [
        "print('Max value of a pixel is:', t.max(im_tensor), '\\n' , 'Min value of a pixel is:', t.min(im_tensor))\n",
        "\n",
        "print(im_tensor[0,10:15,10:15])\n"
      ],
      "execution_count": 9,
      "outputs": [
        {
          "output_type": "stream",
          "name": "stdout",
          "text": [
            "Max value of a pixel is: tensor(1.) \n",
            " Min value of a pixel is: tensor(0.)\n",
            "tensor([[0.0039, 0.6039, 0.9922, 0.3529, 0.0000],\n",
            "        [0.0000, 0.5451, 0.9922, 0.7451, 0.0078],\n",
            "        [0.0000, 0.0431, 0.7451, 0.9922, 0.2745],\n",
            "        [0.0000, 0.0000, 0.1373, 0.9451, 0.8824],\n",
            "        [0.0000, 0.0000, 0.0000, 0.3176, 0.9412]])\n"
          ]
        }
      ]
    },
    {
      "cell_type": "code",
      "metadata": {
        "colab": {
          "base_uri": "https://localhost:8080/",
          "height": 284
        },
        "id": "6N0PleTlXggY",
        "outputId": "32e57ea9-f4a6-48e7-f96c-dc841151f3c7"
      },
      "source": [
        "plt.imshow(im_tensor[0,10:20,10:20], cmap = 'gray');\n",
        "print('slice of image with label:', lbl)"
      ],
      "execution_count": 10,
      "outputs": [
        {
          "output_type": "stream",
          "name": "stdout",
          "text": [
            "slice of image with label: 5\n"
          ]
        },
        {
          "output_type": "display_data",
          "data": {
            "image/png": "[encoded data removed]",
            "text/plain": [
              "<Figure size 432x288 with 1 Axes>"
            ]
          },
          "metadata": {
            "needs_background": "light"
          }
        }
      ]
    },
    {
      "cell_type": "markdown",
      "metadata": {
        "id": "gb4ollcXfLbb"
      },
      "source": [
        "#Splitting the data\n",
        "* Splitting the data the training data into training and validation dataset for validation purpose.\n",
        "* We already have the training data labelled as `dtst`"
      ]
    },
    {
      "cell_type": "code",
      "metadata": {
        "id": "tv-gIkBGYv7C"
      },
      "source": [
        "from torch.utils.data import random_split\n",
        "dtr, dval = random_split(dtr, [50000,10000])"
      ],
      "execution_count": 11,
      "outputs": []
    },
    {
      "cell_type": "code",
      "metadata": {
        "colab": {
          "base_uri": "https://localhost:8080/"
        },
        "id": "sZF-JkYAacSf",
        "outputId": "72a13fc0-ff2a-4bb3-d30f-8910e65e44a6"
      },
      "source": [
        "len(dtr) , len(dval), len(dtst)"
      ],
      "execution_count": 12,
      "outputs": [
        {
          "output_type": "execute_result",
          "data": {
            "text/plain": [
              "(50000, 10000, 10000)"
            ]
          },
          "metadata": {},
          "execution_count": 12
        }
      ]
    },
    {
      "cell_type": "markdown",
      "metadata": {
        "id": "bW0-gfhP-cRO"
      },
      "source": [
        "* In the below code we use `Dataloader` to create batches of the data that can be used for training as well as for validation in each epoch."
      ]
    },
    {
      "cell_type": "code",
      "metadata": {
        "id": "kkdxZozobox1"
      },
      "source": [
        "from torch.utils.data import DataLoader\n",
        "\n",
        "batch_size = 128\n",
        "dtr_loader = DataLoader(dtr, batch_size, shuffle=True)\n",
        "dval_loader = DataLoader(dval, batch_size)"
      ],
      "execution_count": 13,
      "outputs": []
    },
    {
      "cell_type": "markdown",
      "metadata": {
        "id": "yFxgIWfbpdzU"
      },
      "source": [
        "#Data Modelling"
      ]
    },
    {
      "cell_type": "markdown",
      "metadata": {
        "id": "Mosa6El96Sqf"
      },
      "source": [
        "##Setting up the data"
      ]
    },
    {
      "cell_type": "markdown",
      "metadata": {
        "id": "llS6SbbZ6bwl"
      },
      "source": [
        "Here we initialize the weights and biases"
      ]
    },
    {
      "cell_type": "code",
      "metadata": {
        "id": "shDaL6oBijBm"
      },
      "source": [
        "import torch.nn as nn\n",
        "\n",
        "input = 28*28\n",
        "output = 10\n",
        "\n",
        "model = nn.Linear(input, output)"
      ],
      "execution_count": 14,
      "outputs": []
    },
    {
      "cell_type": "code",
      "metadata": {
        "colab": {
          "base_uri": "https://localhost:8080/"
        },
        "id": "BqA8MIw4q7dY",
        "outputId": "308c5adb-a905-4bff-94a1-2b7e38e362cd"
      },
      "source": [
        "print(model.weight.shape)\n",
        "print(model.bias.shape)\n",
        "model.weight, model.bias"
      ],
      "execution_count": 15,
      "outputs": [
        {
          "output_type": "stream",
          "name": "stdout",
          "text": [
            "torch.Size([10, 784])\n",
            "torch.Size([10])\n"
          ]
        },
        {
          "output_type": "execute_result",
          "data": {
            "text/plain": [
              "(Parameter containing:\n",
              " tensor([[ 0.0232,  0.0025, -0.0216,  ..., -0.0111, -0.0080, -0.0007],\n",
              "         [ 0.0265,  0.0084,  0.0236,  ...,  0.0342, -0.0063,  0.0133],\n",
              "         [-0.0288, -0.0196, -0.0146,  ..., -0.0243, -0.0170, -0.0102],\n",
              "         ...,\n",
              "         [ 0.0354, -0.0021, -0.0244,  ...,  0.0188,  0.0100,  0.0289],\n",
              "         [ 0.0332,  0.0078,  0.0168,  ..., -0.0239, -0.0215,  0.0035],\n",
              "         [-0.0232,  0.0325,  0.0144,  ..., -0.0050, -0.0340,  0.0321]],\n",
              "        requires_grad=True), Parameter containing:\n",
              " tensor([ 0.0147,  0.0321,  0.0143, -0.0084, -0.0284,  0.0191, -0.0161, -0.0049,\n",
              "         -0.0054,  0.0143], requires_grad=True))"
            ]
          },
          "metadata": {},
          "execution_count": 15
        }
      ]
    },
    {
      "cell_type": "code",
      "metadata": {
        "id": "A0kc1KFArPJR"
      },
      "source": [
        "#for images, labels in dtr_loader:\n",
        "#  print(labels)\n",
        "#  print(images)\n",
        "#  break\n",
        "\n",
        "##The above code doesnt run, as the shape of the images data needs to be flattened.\n",
        "#A nn layer predicts 1-D o/p from a multi-dim input image, hence the multi-dim o/p needs to be flattened."
      ],
      "execution_count": 16,
      "outputs": []
    },
    {
      "cell_type": "markdown",
      "metadata": {
        "id": "nAEZ7Owz75Ps"
      },
      "source": [
        "* In the below code we reshape the data from (28*28) to 784.\n",
        "* Note that `-1` is used as a general term since pytorch understands/reads the 1st dimension based on the data that is given as an input.\n"
      ]
    },
    {
      "cell_type": "code",
      "metadata": {
        "id": "HZE3HTPXu8jd"
      },
      "source": [
        "class MnistModel(nn.Module):\n",
        "  def __init__(self):\n",
        "    super().__init__()\n",
        "    self.linear = nn.Linear(input, output)\n",
        "\n",
        "  \n",
        "  def forward(self, xb):\n",
        "    xb = xb.reshape(-1,784)\n",
        "    out = self.linear(xb)\n",
        "    return out\n",
        "\n",
        "\n",
        "model = MnistModel()\n"
      ],
      "execution_count": 17,
      "outputs": []
    },
    {
      "cell_type": "markdown",
      "metadata": {
        "id": "cqiKeXyf8ti3"
      },
      "source": [
        "Running the below code flattens the data"
      ]
    },
    {
      "cell_type": "code",
      "metadata": {
        "colab": {
          "base_uri": "https://localhost:8080/"
        },
        "id": "pO4sBpXy14yd",
        "outputId": "83509b0f-59f2-40f1-c24b-683ea1866064"
      },
      "source": [
        "model.linear"
      ],
      "execution_count": 18,
      "outputs": [
        {
          "output_type": "execute_result",
          "data": {
            "text/plain": [
              "Linear(in_features=784, out_features=10, bias=True)"
            ]
          },
          "metadata": {},
          "execution_count": 18
        }
      ]
    },
    {
      "cell_type": "code",
      "metadata": {
        "colab": {
          "base_uri": "https://localhost:8080/"
        },
        "id": "GE2NhnO617me",
        "outputId": "696ad205-80db-4453-9a62-dbbfb06ad046"
      },
      "source": [
        "model.linear.weight"
      ],
      "execution_count": 19,
      "outputs": [
        {
          "output_type": "execute_result",
          "data": {
            "text/plain": [
              "Parameter containing:\n",
              "tensor([[-0.0348,  0.0080,  0.0116,  ..., -0.0159,  0.0208, -0.0039],\n",
              "        [ 0.0353,  0.0036,  0.0016,  ...,  0.0144,  0.0328,  0.0268],\n",
              "        [ 0.0200, -0.0080,  0.0270,  ...,  0.0354,  0.0077, -0.0126],\n",
              "        ...,\n",
              "        [ 0.0146, -0.0208, -0.0201,  ...,  0.0233,  0.0120,  0.0319],\n",
              "        [ 0.0279, -0.0074,  0.0051,  ...,  0.0247,  0.0344,  0.0235],\n",
              "        [-0.0114,  0.0131, -0.0339,  ...,  0.0203,  0.0038, -0.0348]],\n",
              "       requires_grad=True)"
            ]
          },
          "metadata": {},
          "execution_count": 19
        }
      ]
    },
    {
      "cell_type": "code",
      "metadata": {
        "colab": {
          "base_uri": "https://localhost:8080/"
        },
        "id": "w6a0DYsVzGdA",
        "outputId": "015ad779-520a-4103-fb2d-2b184217053b"
      },
      "source": [
        "for images, labels in dtr_loader:\n",
        "  outputs = model(images)\n",
        "  break\n",
        "\n",
        "print(outputs.shape)\n",
        "print('sample data:', outputs[:1].data)"
      ],
      "execution_count": 20,
      "outputs": [
        {
          "output_type": "stream",
          "name": "stdout",
          "text": [
            "torch.Size([128, 10])\n",
            "sample data: tensor([[-0.0114, -0.0721,  0.0854,  0.0654, -0.3238,  0.1444,  0.1331,  0.2607,\n",
            "          0.3070,  0.0255]])\n"
          ]
        }
      ]
    },
    {
      "cell_type": "code",
      "metadata": {
        "id": "Fupwbqiw1XqY"
      },
      "source": [
        "import torch.nn.functional as F"
      ],
      "execution_count": 21,
      "outputs": []
    },
    {
      "cell_type": "code",
      "metadata": {
        "colab": {
          "base_uri": "https://localhost:8080/"
        },
        "id": "kCQY1-LVxclZ",
        "outputId": "f8d19e81-8448-4aa4-872b-f67c51b3d5b2"
      },
      "source": [
        "probs = F.softmax(outputs, dim =1)\n",
        "print(probs[:2].data)"
      ],
      "execution_count": 22,
      "outputs": [
        {
          "output_type": "stream",
          "name": "stdout",
          "text": [
            "tensor([[0.0917, 0.0863, 0.1010, 0.0990, 0.0671, 0.1072, 0.1060, 0.1204, 0.1261,\n",
            "         0.0952],\n",
            "        [0.1140, 0.0743, 0.1253, 0.0704, 0.0990, 0.0847, 0.0832, 0.1143, 0.1233,\n",
            "         0.1116]])\n"
          ]
        }
      ]
    },
    {
      "cell_type": "code",
      "metadata": {
        "colab": {
          "base_uri": "https://localhost:8080/"
        },
        "id": "b9rJ4PgHxp79",
        "outputId": "5bfcf7a5-e08d-4d41-8ebe-86e4c9ce7024"
      },
      "source": [
        "print(t.sum(probs[0]).item())"
      ],
      "execution_count": 23,
      "outputs": [
        {
          "output_type": "stream",
          "name": "stdout",
          "text": [
            "0.9999999403953552\n"
          ]
        }
      ]
    },
    {
      "cell_type": "code",
      "metadata": {
        "colab": {
          "base_uri": "https://localhost:8080/"
        },
        "id": "kqamDGf0yl25",
        "outputId": "62bbe2b0-5d42-42a1-fc4b-73aaa09d0c6e"
      },
      "source": [
        "max_probs, preds = t.max(probs, dim=1)\n",
        "print(preds)\n",
        "print(max_probs)"
      ],
      "execution_count": 24,
      "outputs": [
        {
          "output_type": "stream",
          "name": "stdout",
          "text": [
            "tensor([8, 2, 8, 8, 1, 0, 7, 8, 7, 8, 8, 5, 8, 7, 7, 8, 2, 9, 9, 6, 2, 0, 0, 7,\n",
            "        2, 8, 8, 7, 7, 8, 7, 0, 0, 3, 7, 9, 3, 6, 7, 7, 7, 8, 8, 8, 0, 6, 6, 8,\n",
            "        9, 8, 6, 8, 9, 8, 6, 7, 0, 7, 0, 7, 7, 0, 0, 7, 0, 8, 8, 7, 8, 0, 5, 6,\n",
            "        8, 5, 5, 8, 0, 9, 0, 7, 7, 1, 8, 6, 2, 7, 0, 1, 7, 8, 7, 7, 8, 5, 2, 8,\n",
            "        7, 8, 7, 5, 0, 7, 8, 8, 8, 7, 7, 5, 6, 2, 7, 0, 0, 0, 8, 9, 6, 9, 7, 6,\n",
            "        9, 7, 2, 0, 0, 6, 3, 7])\n",
            "tensor([0.1261, 0.1253, 0.1459, 0.1156, 0.1214, 0.1343, 0.1180, 0.1359, 0.1361,\n",
            "        0.1307, 0.1372, 0.1282, 0.1445, 0.1420, 0.1183, 0.1214, 0.1435, 0.1235,\n",
            "        0.1581, 0.1312, 0.1298, 0.1325, 0.1428, 0.1489, 0.1375, 0.1331, 0.1308,\n",
            "        0.1275, 0.1497, 0.1266, 0.1402, 0.1167, 0.1370, 0.1203, 0.1151, 0.1341,\n",
            "        0.1168, 0.1295, 0.1253, 0.1490, 0.1446, 0.1399, 0.1326, 0.1280, 0.1383,\n",
            "        0.1264, 0.1314, 0.1561, 0.1712, 0.1310, 0.1166, 0.1164, 0.1319, 0.1263,\n",
            "        0.1364, 0.1463, 0.1220, 0.1188, 0.1276, 0.1345, 0.1624, 0.1393, 0.1526,\n",
            "        0.1431, 0.1178, 0.1165, 0.1207, 0.1196, 0.1413, 0.1161, 0.1231, 0.1267,\n",
            "        0.1331, 0.1219, 0.1335, 0.1505, 0.1201, 0.1571, 0.1248, 0.1589, 0.1318,\n",
            "        0.1135, 0.1500, 0.1238, 0.1219, 0.1245, 0.1369, 0.1097, 0.1313, 0.1268,\n",
            "        0.1261, 0.1378, 0.1343, 0.1384, 0.1172, 0.1206, 0.1370, 0.1339, 0.1294,\n",
            "        0.1326, 0.1217, 0.1175, 0.1330, 0.1536, 0.1257, 0.1271, 0.1324, 0.1202,\n",
            "        0.1108, 0.1447, 0.1149, 0.1168, 0.1296, 0.1167, 0.1434, 0.1532, 0.1286,\n",
            "        0.1424, 0.1485, 0.1349, 0.1261, 0.1313, 0.1336, 0.1444, 0.1371, 0.1289,\n",
            "        0.1244, 0.1364], grad_fn=<MaxBackward0>)\n"
          ]
        }
      ]
    },
    {
      "cell_type": "code",
      "metadata": {
        "colab": {
          "base_uri": "https://localhost:8080/"
        },
        "id": "nQXCGFO25IPk",
        "outputId": "0ad414b7-8f87-42c8-c98e-251710976fff"
      },
      "source": [
        "labels"
      ],
      "execution_count": 25,
      "outputs": [
        {
          "output_type": "execute_result",
          "data": {
            "text/plain": [
              "tensor([1, 3, 1, 4, 3, 8, 1, 1, 6, 6, 3, 7, 1, 4, 4, 2, 3, 0, 0, 7, 5, 0, 6, 2,\n",
              "        9, 8, 1, 3, 6, 4, 4, 3, 3, 5, 7, 4, 6, 5, 3, 2, 8, 1, 2, 8, 4, 3, 7, 2,\n",
              "        0, 3, 9, 9, 5, 7, 4, 2, 3, 6, 5, 2, 6, 5, 5, 0, 5, 4, 1, 4, 1, 1, 7, 4,\n",
              "        3, 7, 7, 2, 4, 0, 0, 4, 9, 4, 2, 7, 7, 1, 5, 7, 0, 1, 6, 6, 4, 7, 4, 1,\n",
              "        6, 3, 7, 7, 8, 9, 8, 1, 9, 7, 2, 9, 4, 6, 7, 5, 3, 5, 1, 0, 6, 0, 8, 0,\n",
              "        9, 6, 0, 3, 8, 2, 6, 4])"
            ]
          },
          "metadata": {},
          "execution_count": 25
        }
      ]
    },
    {
      "cell_type": "code",
      "metadata": {
        "colab": {
          "base_uri": "https://localhost:8080/"
        },
        "id": "xwkm6wmB5Uzx",
        "outputId": "021fac9d-f7cc-454c-d581-aa91d9527a8b"
      },
      "source": [
        "preds"
      ],
      "execution_count": 26,
      "outputs": [
        {
          "output_type": "execute_result",
          "data": {
            "text/plain": [
              "tensor([8, 2, 8, 8, 1, 0, 7, 8, 7, 8, 8, 5, 8, 7, 7, 8, 2, 9, 9, 6, 2, 0, 0, 7,\n",
              "        2, 8, 8, 7, 7, 8, 7, 0, 0, 3, 7, 9, 3, 6, 7, 7, 7, 8, 8, 8, 0, 6, 6, 8,\n",
              "        9, 8, 6, 8, 9, 8, 6, 7, 0, 7, 0, 7, 7, 0, 0, 7, 0, 8, 8, 7, 8, 0, 5, 6,\n",
              "        8, 5, 5, 8, 0, 9, 0, 7, 7, 1, 8, 6, 2, 7, 0, 1, 7, 8, 7, 7, 8, 5, 2, 8,\n",
              "        7, 8, 7, 5, 0, 7, 8, 8, 8, 7, 7, 5, 6, 2, 7, 0, 0, 0, 8, 9, 6, 9, 7, 6,\n",
              "        9, 7, 2, 0, 0, 6, 3, 7])"
            ]
          },
          "metadata": {},
          "execution_count": 26
        }
      ]
    },
    {
      "cell_type": "code",
      "metadata": {
        "colab": {
          "base_uri": "https://localhost:8080/"
        },
        "id": "vgSBmhsBDHty",
        "outputId": "9b1a6692-9d0b-470c-f9cf-bdcb8ddef2dd"
      },
      "source": [
        "t.tensor(t.sum(preds == labels).item())"
      ],
      "execution_count": 27,
      "outputs": [
        {
          "output_type": "execute_result",
          "data": {
            "text/plain": [
              "tensor(11)"
            ]
          },
          "metadata": {},
          "execution_count": 27
        }
      ]
    },
    {
      "cell_type": "code",
      "metadata": {
        "id": "n9Q3dcusBa-C"
      },
      "source": [
        "def accuracy(outputs, labels):\n",
        "  _, preds = t.max(outputs, dim=1)\n",
        "  return (t.tensor(t.sum(preds == labels).item()/ len(preds) * 100))"
      ],
      "execution_count": 28,
      "outputs": []
    },
    {
      "cell_type": "code",
      "metadata": {
        "colab": {
          "base_uri": "https://localhost:8080/"
        },
        "id": "mT7WhuSFBeyf",
        "outputId": "3fff18e3-cd4e-4ad6-9435-51d20020de2f"
      },
      "source": [
        "accuracy(outputs,labels)"
      ],
      "execution_count": 29,
      "outputs": [
        {
          "output_type": "execute_result",
          "data": {
            "text/plain": [
              "tensor(8.5938)"
            ]
          },
          "metadata": {},
          "execution_count": 29
        }
      ]
    },
    {
      "cell_type": "markdown",
      "metadata": {
        "id": "LUmPynUpKDbO"
      },
      "source": [
        "* Accuracy is good as an evaluation metric for humans to read, interpret and understand.\n",
        "* Accuracy is not continuous and cannot be differentiated and hence it cannot be used as a loss function.\n",
        "* To minimize the loss, we use cross-entropy as a loss-function, since it is continuous and also it is differentiable."
      ]
    },
    {
      "cell_type": "code",
      "metadata": {
        "colab": {
          "base_uri": "https://localhost:8080/"
        },
        "id": "QlHn4uOZK3Lh",
        "outputId": "ea0e01df-0166-4554-ba88-d00b8e2af237"
      },
      "source": [
        "loss_fn = F.cross_entropy\n",
        "loss = loss_fn(outputs, labels)\n",
        "print(loss)"
      ],
      "execution_count": 30,
      "outputs": [
        {
          "output_type": "stream",
          "name": "stdout",
          "text": [
            "tensor(2.3512, grad_fn=<NllLossBackward0>)\n"
          ]
        }
      ]
    },
    {
      "cell_type": "markdown",
      "metadata": {
        "id": "fOT5JBdIIA7P"
      },
      "source": [
        "##Training and evaluating the data"
      ]
    },
    {
      "cell_type": "code",
      "metadata": {
        "id": "LU8ZXxx5PvwP"
      },
      "source": [
        "def fit(epochs, lr, model, dtr_loader, dval_loader, opt_func = t.optim.SGD):\n",
        "\n",
        "  optimizer = opt_func(model.parameters(), lr)\n",
        "  history = []\n",
        "\n",
        "  for epoch in range(epochs):\n",
        "\n",
        "    for batch in dtr_loader:\n",
        "\n",
        "      loss = model.training_step(batch)\n",
        "      loss.backward()\n",
        "      optimizer.step()\n",
        "      optimizer.zero_grad()\n",
        "\n",
        "\n",
        "    result = evaluate(model, dval_loader)\n",
        "    model.epoch_end(epoch, result)\n",
        "    history.append(result)\n",
        "\n",
        "  return history"
      ],
      "execution_count": 31,
      "outputs": []
    },
    {
      "cell_type": "code",
      "metadata": {
        "id": "OIy6wN7SsncJ"
      },
      "source": [
        "def evaluate(model, dval_loader):\n",
        "  outputs = [model.validation_step(batch) for batch in dval_loader]\n",
        "  return model.validation_epoch_end(outputs)"
      ],
      "execution_count": 32,
      "outputs": []
    },
    {
      "cell_type": "code",
      "metadata": {
        "id": "rDjnVruLoHMJ"
      },
      "source": [
        "class MnistModel(nn.Module):\n",
        "  def __init__(self):\n",
        "    super().__init__()\n",
        "    self.linear = nn.Linear(input, output)\n",
        "\n",
        "  \n",
        "  def forward(self, xb):\n",
        "    xb = xb.reshape(-1,784)\n",
        "    out = self.linear(xb)\n",
        "    return out\n",
        "\n",
        "  def training_step(self, batch):\n",
        "    images, labels = batch\n",
        "    out = self(images)\n",
        "    loss = F.cross_entropy(out, labels)\n",
        "    return loss\n",
        "\n",
        "  def validation_step(self, batch):\n",
        "    images, labels = batch\n",
        "    out = self(images)\n",
        "    loss = F.cross_entropy(out, labels)\n",
        "    acc = accuracy(out, labels)\n",
        "    return { 'val_loss': loss , 'val_acc': acc}\n",
        "\n",
        "  def validation_epoch_end(self, outputs):\n",
        "    batch_losses = [x['val_loss'] for x in outputs]\n",
        "    epoch_loss = t.stack(batch_losses).mean()\n",
        "    batch_acc = [x['val_acc'] for x in outputs]\n",
        "    epoch_acc = t.stack(batch_acc).mean()\n",
        "    return{'val_loss':epoch_loss.item(), 'val_acc':epoch_acc.item()}\n",
        "\n",
        "  \n",
        "  def epoch_end(self, epoch, result):\n",
        "    print('Epoch [{}], val_loss: {:.4f}, val_acc: {:.4f}'.format(epoch, result['val_loss'], result['val_acc']))\n",
        "\n",
        "\n",
        "\n",
        "model = MnistModel()"
      ],
      "execution_count": 33,
      "outputs": []
    },
    {
      "cell_type": "code",
      "metadata": {
        "colab": {
          "base_uri": "https://localhost:8080/"
        },
        "id": "qC-TEu1pygTW",
        "outputId": "a3f073c8-a5b3-41ce-d6aa-4b847fb4778d"
      },
      "source": [
        "r0 = evaluate(model, dval_loader)\n",
        "r0"
      ],
      "execution_count": 34,
      "outputs": [
        {
          "output_type": "execute_result",
          "data": {
            "text/plain": [
              "{'val_acc': 8.475079536437988, 'val_loss': 2.3298420906066895}"
            ]
          },
          "metadata": {},
          "execution_count": 34
        }
      ]
    },
    {
      "cell_type": "code",
      "metadata": {
        "colab": {
          "base_uri": "https://localhost:8080/"
        },
        "id": "2ndsoVdCzMQM",
        "outputId": "d67ee615-581f-4185-c73f-a10c6834f733"
      },
      "source": [
        "history0 = fit(5, 0.001, model, dtr_loader, dval_loader)\n",
        "history0"
      ],
      "execution_count": 35,
      "outputs": [
        {
          "output_type": "stream",
          "name": "stdout",
          "text": [
            "Epoch [0], val_loss: 1.9479, val_acc: 64.7053\n",
            "Epoch [1], val_loss: 1.6745, val_acc: 74.4759\n",
            "Epoch [2], val_loss: 1.4721, val_acc: 77.4723\n",
            "Epoch [3], val_loss: 1.3200, val_acc: 78.9557\n",
            "Epoch [4], val_loss: 1.2034, val_acc: 79.9545\n"
          ]
        },
        {
          "output_type": "execute_result",
          "data": {
            "text/plain": [
              "[{'val_acc': 64.7052993774414, 'val_loss': 1.9479314088821411},\n",
              " {'val_acc': 74.47586822509766, 'val_loss': 1.6744952201843262},\n",
              " {'val_acc': 77.4723129272461, 'val_loss': 1.4721163511276245},\n",
              " {'val_acc': 78.95569610595703, 'val_loss': 1.319960594177246},\n",
              " {'val_acc': 79.95450592041016, 'val_loss': 1.2033658027648926}]"
            ]
          },
          "metadata": {},
          "execution_count": 35
        }
      ]
    },
    {
      "cell_type": "code",
      "metadata": {
        "colab": {
          "base_uri": "https://localhost:8080/"
        },
        "id": "ZEk5SYVdDmhE",
        "outputId": "27924d95-8323-4ecb-baf5-60784ae7967d"
      },
      "source": [
        "history1 = fit(5, 0.001, model, dtr_loader, dval_loader)\n",
        "history2 = fit(7, 0.001, model, dtr_loader, dval_loader)\n",
        "history3 = fit(9, 0.001, model, dtr_loader, dval_loader)\n"
      ],
      "execution_count": 36,
      "outputs": [
        {
          "output_type": "stream",
          "name": "stdout",
          "text": [
            "Epoch [0], val_loss: 1.1121, val_acc: 80.6566\n",
            "Epoch [1], val_loss: 1.0391, val_acc: 81.4280\n",
            "Epoch [2], val_loss: 0.9795, val_acc: 82.0312\n",
            "Epoch [3], val_loss: 0.9299, val_acc: 82.5356\n",
            "Epoch [4], val_loss: 0.8880, val_acc: 82.9905\n",
            "Epoch [0], val_loss: 0.8522, val_acc: 83.2476\n",
            "Epoch [1], val_loss: 0.8212, val_acc: 83.5938\n",
            "Epoch [2], val_loss: 0.7940, val_acc: 83.8608\n",
            "Epoch [3], val_loss: 0.7701, val_acc: 83.9695\n",
            "Epoch [4], val_loss: 0.7487, val_acc: 84.1871\n",
            "Epoch [5], val_loss: 0.7297, val_acc: 84.3552\n",
            "Epoch [6], val_loss: 0.7124, val_acc: 84.5332\n",
            "Epoch [0], val_loss: 0.6968, val_acc: 84.7211\n",
            "Epoch [1], val_loss: 0.6825, val_acc: 84.8596\n",
            "Epoch [2], val_loss: 0.6695, val_acc: 85.0771\n",
            "Epoch [3], val_loss: 0.6574, val_acc: 85.1760\n",
            "Epoch [4], val_loss: 0.6463, val_acc: 85.3145\n",
            "Epoch [5], val_loss: 0.6361, val_acc: 85.4430\n",
            "Epoch [6], val_loss: 0.6265, val_acc: 85.5518\n",
            "Epoch [7], val_loss: 0.6176, val_acc: 85.6210\n",
            "Epoch [8], val_loss: 0.6092, val_acc: 85.7990\n"
          ]
        }
      ]
    },
    {
      "cell_type": "code",
      "metadata": {
        "colab": {
          "base_uri": "https://localhost:8080/",
          "height": 279
        },
        "id": "g8zYpUMgGNEv",
        "outputId": "42463e98-04c9-4a4b-9d44-a632a0a133bc"
      },
      "source": [
        "history = [r0] + history0 + history1 + history2 + history3\n",
        "accuracies = [result['val_acc'] for result in history]\n",
        "plt.plot(accuracies, '-x');\n",
        "plt.xlabel('epoch');\n",
        "plt.ylabel('accuracy');\n"
      ],
      "execution_count": 37,
      "outputs": [
        {
          "output_type": "display_data",
          "data": {
            "image/png": "[encoded data removed]",
            "text/plain": [
              "<Figure size 432x288 with 1 Axes>"
            ]
          },
          "metadata": {
            "needs_background": "light"
          }
        }
      ]
    },
    {
      "cell_type": "markdown",
      "metadata": {
        "id": "ku_Y8QZYIH_C"
      },
      "source": [
        "##Testing the data on model"
      ]
    },
    {
      "cell_type": "code",
      "metadata": {
        "id": "uIXzLSaQG0D2"
      },
      "source": [
        "dtest = MNIST(root = 'data/', train = False, transform=transforms.ToTensor())"
      ],
      "execution_count": 38,
      "outputs": []
    },
    {
      "cell_type": "code",
      "metadata": {
        "colab": {
          "base_uri": "https://localhost:8080/",
          "height": 302
        },
        "id": "7jDIsXIRIeab",
        "outputId": "56e1f189-3d90-4472-e515-9374c4db4a17"
      },
      "source": [
        "img, lbl = dtest[0]\n",
        "plt.imshow(img[0], cmap = 'gray')\n",
        "print('shape:' , img.shape)\n",
        "print('label :' , lbl)"
      ],
      "execution_count": 53,
      "outputs": [
        {
          "output_type": "stream",
          "name": "stdout",
          "text": [
            "shape: torch.Size([1, 28, 28])\n",
            "label : 7\n"
          ]
        },
        {
          "output_type": "display_data",
          "data": {
            "image/png": "[encoded data removed]",
            "text/plain": [
              "<Figure size 432x288 with 1 Axes>"
            ]
          },
          "metadata": {
            "needs_background": "light"
          }
        }
      ]
    },
    {
      "cell_type": "code",
      "metadata": {
        "id": "04L-o-53IrTZ"
      },
      "source": [
        "def predict_img(img, model):\n",
        "  xb = img.unsqueeze(0)\n",
        "  yb = model(xb)\n",
        "  _,preds = t.max(yb, dim=1)\n",
        "  return preds[0].item()"
      ],
      "execution_count": 40,
      "outputs": []
    },
    {
      "cell_type": "markdown",
      "metadata": {
        "id": "W5MsEbqEqSQ_"
      },
      "source": [
        "##Testing a few images"
      ]
    },
    {
      "cell_type": "code",
      "metadata": {
        "colab": {
          "base_uri": "https://localhost:8080/",
          "height": 284
        },
        "id": "YByKiZO8J9vn",
        "outputId": "618cf0b1-349f-43fb-aaa6-ae455dc026e7"
      },
      "source": [
        "img, lbl = dtest[30]\n",
        "print('actual_label:', lbl , 'predicted_label', predict_img(img, model))\n",
        "plt.imshow(img[0], cmap = 'gray');"
      ],
      "execution_count": 55,
      "outputs": [
        {
          "output_type": "stream",
          "name": "stdout",
          "text": [
            "actual_label: 3 predicted_label 3\n"
          ]
        },
        {
          "output_type": "display_data",
          "data": {
            "image/png": "[encoded data removed]",
            "text/plain": [
              "<Figure size 432x288 with 1 Axes>"
            ]
          },
          "metadata": {
            "needs_background": "light"
          }
        }
      ]
    },
    {
      "cell_type": "code",
      "metadata": {
        "colab": {
          "base_uri": "https://localhost:8080/",
          "height": 302
        },
        "id": "OQhER8UOKdwX",
        "outputId": "0a0e2c56-e311-4c4c-db5f-b374843e862b"
      },
      "source": [
        "img, lbl = dtest[1839]\n",
        "print('actual_label:', lbl , 'predicted_label', predict_img(img, model))\n",
        "plt.imshow(img[0], cmap = 'gray');"
      ],
      "execution_count": 54,
      "outputs": [
        {
          "output_type": "stream",
          "name": "stdout",
          "text": [
            "actual_label: 2 predicted_label 8\n"
          ]
        },
        {
          "output_type": "execute_result",
          "data": {
            "text/plain": [
              "<matplotlib.image.AxesImage at 0x7faf87f1d610>"
            ]
          },
          "metadata": {},
          "execution_count": 54
        },
        {
          "output_type": "display_data",
          "data": {
            "image/png": "[encoded data removed]",
            "text/plain": [
              "<Figure size 432x288 with 1 Axes>"
            ]
          },
          "metadata": {
            "needs_background": "light"
          }
        }
      ]
    },
    {
      "cell_type": "code",
      "metadata": {
        "colab": {
          "base_uri": "https://localhost:8080/"
        },
        "id": "y3gZ-ajYpqgn",
        "outputId": "3fb5bc88-457b-42fb-a606-e3719cd02684"
      },
      "source": [
        "dtest_loader = DataLoader(dtest, batch_size = 256)\n",
        "result = evaluate(model,dtest_loader)\n",
        "result"
      ],
      "execution_count": 56,
      "outputs": [
        {
          "output_type": "execute_result",
          "data": {
            "text/plain": [
              "{'val_acc': 86.69921875, 'val_loss': 0.5803562998771667}"
            ]
          },
          "metadata": {},
          "execution_count": 56
        }
      ]
    },
    {
      "cell_type": "markdown",
      "metadata": {
        "id": "FQBXnkT6tvht"
      },
      "source": [
        "#Saving the model"
      ]
    },
    {
      "cell_type": "code",
      "metadata": {
        "id": "DJQZumAgrBk0"
      },
      "source": [
        "t.save(model.state_dict(), 'MNIST_logistic.pth')"
      ],
      "execution_count": 57,
      "outputs": []
    },
    {
      "cell_type": "code",
      "metadata": {
        "colab": {
          "base_uri": "https://localhost:8080/"
        },
        "id": "86D86yQRt-24",
        "outputId": "e85ca132-d58c-4638-bec3-429922e41c2d"
      },
      "source": [
        "new_model = MnistModel()\n",
        "new_model.load_state_dict(t.load('MNIST_logistic.pth'))"
      ],
      "execution_count": 59,
      "outputs": [
        {
          "output_type": "execute_result",
          "data": {
            "text/plain": [
              "<All keys matched successfully>"
            ]
          },
          "metadata": {},
          "execution_count": 59
        }
      ]
    },
    {
      "cell_type": "code",
      "metadata": {
        "id": "uwnNU6BzuXfs"
      },
      "source": [
        "new_model.state_dict()"
      ],
      "execution_count": null,
      "outputs": []
    },
    {
      "cell_type": "markdown",
      "metadata": {
        "id": "97xozx2duxVz"
      },
      "source": [
        "* Loaded model works successfully!"
      ]
    },
    {
      "cell_type": "code",
      "metadata": {
        "colab": {
          "base_uri": "https://localhost:8080/",
          "height": 208
        },
        "id": "mSDlDs_3uctg",
        "outputId": "a02e5e7e-ad91-4406-a715-9ad2b933855d"
      },
      "source": [
        "test_result = evaluate(new_model,dtest_loader)\n",
        "print(result)\n",
        "print(test_result)"
      ],
      "execution_count": 1,
      "outputs": [
        {
          "output_type": "error",
          "ename": "NameError",
          "evalue": "ignored",
          "traceback": [
            "\u001b[0;31m---------------------------------------------------------------------------\u001b[0m",
            "\u001b[0;31mNameError\u001b[0m                                 Traceback (most recent call last)",
            "\u001b[0;32m<ipython-input-1-dc67ef4c4200>\u001b[0m in \u001b[0;36m<module>\u001b[0;34m()\u001b[0m\n\u001b[0;32m----> 1\u001b[0;31m \u001b[0mtest_result\u001b[0m \u001b[0;34m=\u001b[0m \u001b[0mevaluate\u001b[0m\u001b[0;34m(\u001b[0m\u001b[0mnew_model\u001b[0m\u001b[0;34m,\u001b[0m\u001b[0mdtest_loader\u001b[0m\u001b[0;34m)\u001b[0m\u001b[0;34m\u001b[0m\u001b[0;34m\u001b[0m\u001b[0m\n\u001b[0m\u001b[1;32m      2\u001b[0m \u001b[0mprint\u001b[0m\u001b[0;34m(\u001b[0m\u001b[0mresult\u001b[0m\u001b[0;34m)\u001b[0m\u001b[0;34m\u001b[0m\u001b[0;34m\u001b[0m\u001b[0m\n\u001b[1;32m      3\u001b[0m \u001b[0mprint\u001b[0m\u001b[0;34m(\u001b[0m\u001b[0mtest_result\u001b[0m\u001b[0;34m)\u001b[0m\u001b[0;34m\u001b[0m\u001b[0;34m\u001b[0m\u001b[0m\n",
            "\u001b[0;31mNameError\u001b[0m: name 'evaluate' is not defined"
          ]
        }
      ]
    },
    {
      "cell_type": "code",
      "metadata": {
        "id": "t5xHrpcUuuwD"
      },
      "source": [
        ""
      ],
      "execution_count": null,
      "outputs": []
    }
  ]
}